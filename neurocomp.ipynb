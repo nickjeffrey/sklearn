{
 "cells": [
  {
   "cell_type": "markdown",
   "id": "771ae135",
   "metadata": {},
   "source": [
    "# Binary Classification vs. Anomaly Detection with KNN and SVM \n",
    "\n",
    "Description of experiment:\n",
    "\n",
    "- dataset contains two classes (normal=-1, abnormal=+1) \n",
    "- 2000 rows of normal data, 200 rows of abnormal data\n",
    "- The procedure is shown in the graphic below. Both the normal traffic and the anomaly traffic data are downsampled to, on the one hand, keep some anomaly traffic for the final validation stage; on the second hand, the downsampling allows us to obtain a balanced data set for training the two-classes problems.\n",
    "- The remaining data not used in the training and testing of the models is preserved for the final validation stage.\n",
    "- Once the data is downsampled, it is normalized and a 10-fold cross validation is carried out independently for the two-classes problem and for the one-class problem, although the same random seed is used to obtain the same partitions in each case for comparison reasons. \n",
    "- In the two-classes problem, all the partitions may include normal and anomaly instances. However, in the one-class problem, the partitions are prepared only with the normal traffic instances; the anomaly instances are used to measure the performance of the models obtained for each fold. Interestingly, the normalization for the one-class problem is determined exclusively with data from normal traffic only.\n",
    "- A final validation stage includes all the data that has not been used in training and testing; this is an unbalanced data set containing instances from normal traffic and from anomalies. \n",
    "- The aim of this validation stage is to compare the behavior of the different modeling techniques included in this comparison, so conclusions could be extracted.\n",
    "- the \"normal\" traffic (2000 lines) is the \"negative class\", while the \"abnormal\" traffic (200 lines) is the \"positive class\"\n",
    "\n"
   ]
  },
  {
   "cell_type": "markdown",
   "id": "23337132",
   "metadata": {},
   "source": [
    "## Design of experiment\n",
    "<img src=https://raw.githubusercontent.com/nickjeffrey/sklearn/master/images/fig03_experimental_setup.png>"
   ]
  },
  {
   "cell_type": "code",
   "execution_count": 1,
   "id": "d104537d",
   "metadata": {},
   "outputs": [],
   "source": [
    "# This jupyter notebook is based on # Stat479: Machine Learning -- L02: kNN in Python\n",
    "# https://github.com/rasbt/stat479-machine-learning-fs18/blob/master/02_knn/02_knn_demo.ipynb\n"
   ]
  },
  {
   "cell_type": "markdown",
   "id": "d56a539e",
   "metadata": {},
   "source": [
    "# 1 - choose the learning algorithm (KNN, SVM)\n"
   ]
  },
  {
   "cell_type": "code",
   "execution_count": 2,
   "id": "d0b9a008",
   "metadata": {},
   "outputs": [
    {
     "name": "stdout",
     "output_type": "stream",
     "text": [
      "The subsequent steps in this jupyter notebook will use the OneClassKNN algorithm with a dataset that is  balanced\n"
     ]
    }
   ],
   "source": [
    "# adjust the modeltype=KNN|SVM variable to run different algorithms\n",
    "\n",
    "modeltype=\"OneClassKNN\"  #adjust this variable to run the subsequent steps using the SVM or KNN algorithms\n",
    "#modeltype=\"OneClassSVM\"  #adjust this variable to run the subsequent steps using the SVM or KNN algorithms\n",
    "#modeltype=\"TwoClassKNN\"   #adjust this variable to run the subsequent steps using the SVM or KNN algorithms\n",
    "#modeltype=\"TwoClassSVM\"  #adjust this variable to run the subsequent steps using the SVM or KNN algorithms\n",
    "\n",
    "\n",
    "\n",
    "#The entire dataset is heavily skewed towards the negative class, with only a small amount of data from the positive class\n",
    "#In other words, the entire dataset is \"unbalanced\".\n",
    "#You can set dataset_type=balanced   to artificially balance the negative/positive classes\n",
    "#Setting     dataset_type=unbalanced will use the dataset as-is, with approx 10x more data in the negative class\n",
    "#Using balanced vs unbalanced data can affect the accuracy of the learning models because ...\n",
    "\n",
    "dataset_type=\"balanced\"\n",
    "#dataset_type=\"unbalanced\"\n",
    "\n",
    "print (\"The subsequent steps in this jupyter notebook will use the\", modeltype,\"algorithm with a dataset that is \",dataset_type)"
   ]
  },
  {
   "cell_type": "markdown",
   "id": "79a2136b",
   "metadata": {},
   "source": [
    "# 2 - Import required packages\n",
    "\n"
   ]
  },
  {
   "cell_type": "code",
   "execution_count": 3,
   "id": "bf059ba0",
   "metadata": {},
   "outputs": [],
   "source": [
    "import pandas as pd\n",
    "import numpy as np\n",
    "import matplotlib.pyplot as plt\n",
    "import math  #get square root function\n",
    "\n",
    "\n",
    "from sklearn.neighbors import KNeighborsClassifier  #2-class (supervised, with labels) \n",
    "from sklearn import svm                             #2-class (supervised, with labels)\n",
    "from sklearn.svm import OneClassSVM                 #1-class (unsupervised, no labels)\n",
    "from sklearn.neighbors import NearestNeighbors      #1-class (unsupervised, no labels)\n",
    "\n",
    "from sklearn.preprocessing   import MinMaxScaler\n",
    "from sklearn.metrics         import confusion_matrix\n",
    "from sklearn.model_selection import StratifiedKFold    #for cross-validation\n",
    "from sklearn.model_selection import GridSearchCV       #for cross-validation\n"
   ]
  },
  {
   "cell_type": "markdown",
   "id": "2bea6452",
   "metadata": {},
   "source": [
    "# 3 - Load Dataset into a Pandas DataFrame\n"
   ]
  },
  {
   "cell_type": "code",
   "execution_count": 4,
   "id": "961d7511",
   "metadata": {},
   "outputs": [],
   "source": [
    "#df_data = pd.read_csv('c:/temp/data7.csv')  # this data has not been scaled/normalized\n",
    "df_data = pd.read_csv('https://raw.githubusercontent.com/nickjeffrey/sklearn/master/dataset.csv')"
   ]
  },
  {
   "cell_type": "code",
   "execution_count": 5,
   "id": "502c5a32",
   "metadata": {},
   "outputs": [
    {
     "data": {
      "text/html": [
       "<div>\n",
       "<style scoped>\n",
       "    .dataframe tbody tr th:only-of-type {\n",
       "        vertical-align: middle;\n",
       "    }\n",
       "\n",
       "    .dataframe tbody tr th {\n",
       "        vertical-align: top;\n",
       "    }\n",
       "\n",
       "    .dataframe thead th {\n",
       "        text-align: right;\n",
       "    }\n",
       "</style>\n",
       "<table border=\"1\" class=\"dataframe\">\n",
       "  <thead>\n",
       "    <tr style=\"text-align: right;\">\n",
       "      <th></th>\n",
       "      <th>seconds_since_epoch</th>\n",
       "      <th>datestamp</th>\n",
       "      <th>sp1_watts_generated</th>\n",
       "      <th>sp2_watts_generated</th>\n",
       "      <th>sp3_watts_generated</th>\n",
       "      <th>iot_gateway_watt_consumption</th>\n",
       "      <th>water_pump_watt_consumption</th>\n",
       "      <th>valve1_watt_consumption</th>\n",
       "      <th>valve2_watt_consumption</th>\n",
       "      <th>valve3_watt_consumption</th>\n",
       "      <th>...</th>\n",
       "      <th>temps3_soil_temperature_C</th>\n",
       "      <th>latency_iotgateway_ms</th>\n",
       "      <th>latency_logcollector_ms</th>\n",
       "      <th>packetloss_iotgateway</th>\n",
       "      <th>packetloss_logcollector</th>\n",
       "      <th>auth_success_mqtt_to_hmi</th>\n",
       "      <th>auth_failure_mqtt_to_hmi</th>\n",
       "      <th>auth_success_ssh_to_iogateway</th>\n",
       "      <th>auth_failure_ssh_to_iotgateway</th>\n",
       "      <th>class</th>\n",
       "    </tr>\n",
       "  </thead>\n",
       "  <tbody>\n",
       "    <tr>\n",
       "      <th>0</th>\n",
       "      <td>1673334002</td>\n",
       "      <td>1/10/2023 0:00</td>\n",
       "      <td>0.0</td>\n",
       "      <td>0.0</td>\n",
       "      <td>0.0</td>\n",
       "      <td>1.63</td>\n",
       "      <td>0.0</td>\n",
       "      <td>0.32</td>\n",
       "      <td>0.12</td>\n",
       "      <td>0.10</td>\n",
       "      <td>...</td>\n",
       "      <td>23.76</td>\n",
       "      <td>1.423</td>\n",
       "      <td>0.527</td>\n",
       "      <td>6.46</td>\n",
       "      <td>4.96</td>\n",
       "      <td>11</td>\n",
       "      <td>8</td>\n",
       "      <td>4</td>\n",
       "      <td>4</td>\n",
       "      <td>abnormal</td>\n",
       "    </tr>\n",
       "    <tr>\n",
       "      <th>1</th>\n",
       "      <td>1673334062</td>\n",
       "      <td>1/10/2023 0:01</td>\n",
       "      <td>0.0</td>\n",
       "      <td>0.0</td>\n",
       "      <td>0.0</td>\n",
       "      <td>1.12</td>\n",
       "      <td>0.0</td>\n",
       "      <td>0.03</td>\n",
       "      <td>0.16</td>\n",
       "      <td>0.10</td>\n",
       "      <td>...</td>\n",
       "      <td>16.74</td>\n",
       "      <td>1.505</td>\n",
       "      <td>1.117</td>\n",
       "      <td>5.10</td>\n",
       "      <td>5.61</td>\n",
       "      <td>15</td>\n",
       "      <td>13</td>\n",
       "      <td>11</td>\n",
       "      <td>5</td>\n",
       "      <td>abnormal</td>\n",
       "    </tr>\n",
       "    <tr>\n",
       "      <th>2</th>\n",
       "      <td>1673334122</td>\n",
       "      <td>1/10/2023 0:02</td>\n",
       "      <td>0.0</td>\n",
       "      <td>0.0</td>\n",
       "      <td>0.0</td>\n",
       "      <td>0.28</td>\n",
       "      <td>0.0</td>\n",
       "      <td>0.15</td>\n",
       "      <td>0.00</td>\n",
       "      <td>0.31</td>\n",
       "      <td>...</td>\n",
       "      <td>13.50</td>\n",
       "      <td>0.137</td>\n",
       "      <td>0.187</td>\n",
       "      <td>4.47</td>\n",
       "      <td>4.64</td>\n",
       "      <td>3</td>\n",
       "      <td>7</td>\n",
       "      <td>8</td>\n",
       "      <td>6</td>\n",
       "      <td>abnormal</td>\n",
       "    </tr>\n",
       "    <tr>\n",
       "      <th>3</th>\n",
       "      <td>1673334182</td>\n",
       "      <td>1/10/2023 0:03</td>\n",
       "      <td>0.0</td>\n",
       "      <td>0.0</td>\n",
       "      <td>0.0</td>\n",
       "      <td>1.16</td>\n",
       "      <td>0.0</td>\n",
       "      <td>0.26</td>\n",
       "      <td>0.08</td>\n",
       "      <td>0.16</td>\n",
       "      <td>...</td>\n",
       "      <td>9.36</td>\n",
       "      <td>1.240</td>\n",
       "      <td>0.754</td>\n",
       "      <td>5.16</td>\n",
       "      <td>5.22</td>\n",
       "      <td>3</td>\n",
       "      <td>7</td>\n",
       "      <td>11</td>\n",
       "      <td>10</td>\n",
       "      <td>abnormal</td>\n",
       "    </tr>\n",
       "    <tr>\n",
       "      <th>4</th>\n",
       "      <td>1673334242</td>\n",
       "      <td>1/10/2023 0:04</td>\n",
       "      <td>0.0</td>\n",
       "      <td>0.0</td>\n",
       "      <td>0.0</td>\n",
       "      <td>0.97</td>\n",
       "      <td>0.0</td>\n",
       "      <td>0.32</td>\n",
       "      <td>0.31</td>\n",
       "      <td>0.15</td>\n",
       "      <td>...</td>\n",
       "      <td>21.60</td>\n",
       "      <td>1.336</td>\n",
       "      <td>0.386</td>\n",
       "      <td>5.49</td>\n",
       "      <td>3.55</td>\n",
       "      <td>9</td>\n",
       "      <td>14</td>\n",
       "      <td>3</td>\n",
       "      <td>7</td>\n",
       "      <td>abnormal</td>\n",
       "    </tr>\n",
       "  </tbody>\n",
       "</table>\n",
       "<p>5 rows × 35 columns</p>\n",
       "</div>"
      ],
      "text/plain": [
       "   seconds_since_epoch       datestamp  sp1_watts_generated  \\\n",
       "0           1673334002  1/10/2023 0:00                  0.0   \n",
       "1           1673334062  1/10/2023 0:01                  0.0   \n",
       "2           1673334122  1/10/2023 0:02                  0.0   \n",
       "3           1673334182  1/10/2023 0:03                  0.0   \n",
       "4           1673334242  1/10/2023 0:04                  0.0   \n",
       "\n",
       "   sp2_watts_generated  sp3_watts_generated  iot_gateway_watt_consumption  \\\n",
       "0                  0.0                  0.0                          1.63   \n",
       "1                  0.0                  0.0                          1.12   \n",
       "2                  0.0                  0.0                          0.28   \n",
       "3                  0.0                  0.0                          1.16   \n",
       "4                  0.0                  0.0                          0.97   \n",
       "\n",
       "   water_pump_watt_consumption  valve1_watt_consumption  \\\n",
       "0                          0.0                     0.32   \n",
       "1                          0.0                     0.03   \n",
       "2                          0.0                     0.15   \n",
       "3                          0.0                     0.26   \n",
       "4                          0.0                     0.32   \n",
       "\n",
       "   valve2_watt_consumption  valve3_watt_consumption  ...  \\\n",
       "0                     0.12                     0.10  ...   \n",
       "1                     0.16                     0.10  ...   \n",
       "2                     0.00                     0.31  ...   \n",
       "3                     0.08                     0.16  ...   \n",
       "4                     0.31                     0.15  ...   \n",
       "\n",
       "   temps3_soil_temperature_C  latency_iotgateway_ms  latency_logcollector_ms  \\\n",
       "0                      23.76                  1.423                    0.527   \n",
       "1                      16.74                  1.505                    1.117   \n",
       "2                      13.50                  0.137                    0.187   \n",
       "3                       9.36                  1.240                    0.754   \n",
       "4                      21.60                  1.336                    0.386   \n",
       "\n",
       "   packetloss_iotgateway  packetloss_logcollector  auth_success_mqtt_to_hmi  \\\n",
       "0                   6.46                     4.96                        11   \n",
       "1                   5.10                     5.61                        15   \n",
       "2                   4.47                     4.64                         3   \n",
       "3                   5.16                     5.22                         3   \n",
       "4                   5.49                     3.55                         9   \n",
       "\n",
       "   auth_failure_mqtt_to_hmi  auth_success_ssh_to_iogateway  \\\n",
       "0                         8                              4   \n",
       "1                        13                             11   \n",
       "2                         7                              8   \n",
       "3                         7                             11   \n",
       "4                        14                              3   \n",
       "\n",
       "   auth_failure_ssh_to_iotgateway     class  \n",
       "0                               4  abnormal  \n",
       "1                               5  abnormal  \n",
       "2                               6  abnormal  \n",
       "3                              10  abnormal  \n",
       "4                               7  abnormal  \n",
       "\n",
       "[5 rows x 35 columns]"
      ]
     },
     "execution_count": 5,
     "metadata": {},
     "output_type": "execute_result"
    }
   ],
   "source": [
    "# look at the top few rows of the data (should show the abnormal class in column 35)\n",
    "df_data.head()"
   ]
  },
  {
   "cell_type": "code",
   "execution_count": 6,
   "id": "e94bd3a2",
   "metadata": {},
   "outputs": [
    {
     "data": {
      "text/html": [
       "<div>\n",
       "<style scoped>\n",
       "    .dataframe tbody tr th:only-of-type {\n",
       "        vertical-align: middle;\n",
       "    }\n",
       "\n",
       "    .dataframe tbody tr th {\n",
       "        vertical-align: top;\n",
       "    }\n",
       "\n",
       "    .dataframe thead th {\n",
       "        text-align: right;\n",
       "    }\n",
       "</style>\n",
       "<table border=\"1\" class=\"dataframe\">\n",
       "  <thead>\n",
       "    <tr style=\"text-align: right;\">\n",
       "      <th></th>\n",
       "      <th>seconds_since_epoch</th>\n",
       "      <th>datestamp</th>\n",
       "      <th>sp1_watts_generated</th>\n",
       "      <th>sp2_watts_generated</th>\n",
       "      <th>sp3_watts_generated</th>\n",
       "      <th>iot_gateway_watt_consumption</th>\n",
       "      <th>water_pump_watt_consumption</th>\n",
       "      <th>valve1_watt_consumption</th>\n",
       "      <th>valve2_watt_consumption</th>\n",
       "      <th>valve3_watt_consumption</th>\n",
       "      <th>...</th>\n",
       "      <th>temps3_soil_temperature_C</th>\n",
       "      <th>latency_iotgateway_ms</th>\n",
       "      <th>latency_logcollector_ms</th>\n",
       "      <th>packetloss_iotgateway</th>\n",
       "      <th>packetloss_logcollector</th>\n",
       "      <th>auth_success_mqtt_to_hmi</th>\n",
       "      <th>auth_failure_mqtt_to_hmi</th>\n",
       "      <th>auth_success_ssh_to_iogateway</th>\n",
       "      <th>auth_failure_ssh_to_iotgateway</th>\n",
       "      <th>class</th>\n",
       "    </tr>\n",
       "  </thead>\n",
       "  <tbody>\n",
       "    <tr>\n",
       "      <th>2195</th>\n",
       "      <td>1673453753</td>\n",
       "      <td>9:15</td>\n",
       "      <td>32.72</td>\n",
       "      <td>32.85</td>\n",
       "      <td>32.22</td>\n",
       "      <td>0.90</td>\n",
       "      <td>0.0</td>\n",
       "      <td>0.16</td>\n",
       "      <td>0.18</td>\n",
       "      <td>0.18</td>\n",
       "      <td>...</td>\n",
       "      <td>20.2</td>\n",
       "      <td>0.520</td>\n",
       "      <td>0.459</td>\n",
       "      <td>0.0</td>\n",
       "      <td>0.0</td>\n",
       "      <td>1</td>\n",
       "      <td>0</td>\n",
       "      <td>0</td>\n",
       "      <td>0</td>\n",
       "      <td>normal</td>\n",
       "    </tr>\n",
       "    <tr>\n",
       "      <th>2196</th>\n",
       "      <td>1673453813</td>\n",
       "      <td>9:16</td>\n",
       "      <td>27.34</td>\n",
       "      <td>30.48</td>\n",
       "      <td>29.71</td>\n",
       "      <td>0.78</td>\n",
       "      <td>0.0</td>\n",
       "      <td>0.16</td>\n",
       "      <td>0.19</td>\n",
       "      <td>0.19</td>\n",
       "      <td>...</td>\n",
       "      <td>20.6</td>\n",
       "      <td>0.483</td>\n",
       "      <td>0.612</td>\n",
       "      <td>0.0</td>\n",
       "      <td>0.0</td>\n",
       "      <td>1</td>\n",
       "      <td>0</td>\n",
       "      <td>1</td>\n",
       "      <td>1</td>\n",
       "      <td>normal</td>\n",
       "    </tr>\n",
       "    <tr>\n",
       "      <th>2197</th>\n",
       "      <td>1673453873</td>\n",
       "      <td>9:17</td>\n",
       "      <td>27.96</td>\n",
       "      <td>28.65</td>\n",
       "      <td>28.04</td>\n",
       "      <td>0.78</td>\n",
       "      <td>0.0</td>\n",
       "      <td>0.23</td>\n",
       "      <td>0.21</td>\n",
       "      <td>0.21</td>\n",
       "      <td>...</td>\n",
       "      <td>20.6</td>\n",
       "      <td>0.356</td>\n",
       "      <td>0.567</td>\n",
       "      <td>0.0</td>\n",
       "      <td>0.0</td>\n",
       "      <td>1</td>\n",
       "      <td>0</td>\n",
       "      <td>1</td>\n",
       "      <td>0</td>\n",
       "      <td>normal</td>\n",
       "    </tr>\n",
       "    <tr>\n",
       "      <th>2198</th>\n",
       "      <td>1673453933</td>\n",
       "      <td>9:18</td>\n",
       "      <td>33.00</td>\n",
       "      <td>30.94</td>\n",
       "      <td>29.79</td>\n",
       "      <td>0.89</td>\n",
       "      <td>0.0</td>\n",
       "      <td>0.18</td>\n",
       "      <td>0.23</td>\n",
       "      <td>0.22</td>\n",
       "      <td>...</td>\n",
       "      <td>19.2</td>\n",
       "      <td>0.397</td>\n",
       "      <td>0.641</td>\n",
       "      <td>0.0</td>\n",
       "      <td>0.0</td>\n",
       "      <td>1</td>\n",
       "      <td>0</td>\n",
       "      <td>3</td>\n",
       "      <td>1</td>\n",
       "      <td>normal</td>\n",
       "    </tr>\n",
       "    <tr>\n",
       "      <th>2199</th>\n",
       "      <td>1673453993</td>\n",
       "      <td>9:19</td>\n",
       "      <td>31.08</td>\n",
       "      <td>32.72</td>\n",
       "      <td>31.65</td>\n",
       "      <td>0.76</td>\n",
       "      <td>0.0</td>\n",
       "      <td>0.17</td>\n",
       "      <td>0.23</td>\n",
       "      <td>0.16</td>\n",
       "      <td>...</td>\n",
       "      <td>20.8</td>\n",
       "      <td>0.406</td>\n",
       "      <td>0.465</td>\n",
       "      <td>0.0</td>\n",
       "      <td>0.0</td>\n",
       "      <td>1</td>\n",
       "      <td>0</td>\n",
       "      <td>3</td>\n",
       "      <td>1</td>\n",
       "      <td>normal</td>\n",
       "    </tr>\n",
       "  </tbody>\n",
       "</table>\n",
       "<p>5 rows × 35 columns</p>\n",
       "</div>"
      ],
      "text/plain": [
       "      seconds_since_epoch datestamp  sp1_watts_generated  sp2_watts_generated  \\\n",
       "2195           1673453753      9:15                32.72                32.85   \n",
       "2196           1673453813      9:16                27.34                30.48   \n",
       "2197           1673453873      9:17                27.96                28.65   \n",
       "2198           1673453933      9:18                33.00                30.94   \n",
       "2199           1673453993      9:19                31.08                32.72   \n",
       "\n",
       "      sp3_watts_generated  iot_gateway_watt_consumption  \\\n",
       "2195                32.22                          0.90   \n",
       "2196                29.71                          0.78   \n",
       "2197                28.04                          0.78   \n",
       "2198                29.79                          0.89   \n",
       "2199                31.65                          0.76   \n",
       "\n",
       "      water_pump_watt_consumption  valve1_watt_consumption  \\\n",
       "2195                          0.0                     0.16   \n",
       "2196                          0.0                     0.16   \n",
       "2197                          0.0                     0.23   \n",
       "2198                          0.0                     0.18   \n",
       "2199                          0.0                     0.17   \n",
       "\n",
       "      valve2_watt_consumption  valve3_watt_consumption  ...  \\\n",
       "2195                     0.18                     0.18  ...   \n",
       "2196                     0.19                     0.19  ...   \n",
       "2197                     0.21                     0.21  ...   \n",
       "2198                     0.23                     0.22  ...   \n",
       "2199                     0.23                     0.16  ...   \n",
       "\n",
       "      temps3_soil_temperature_C  latency_iotgateway_ms  \\\n",
       "2195                       20.2                  0.520   \n",
       "2196                       20.6                  0.483   \n",
       "2197                       20.6                  0.356   \n",
       "2198                       19.2                  0.397   \n",
       "2199                       20.8                  0.406   \n",
       "\n",
       "      latency_logcollector_ms  packetloss_iotgateway  packetloss_logcollector  \\\n",
       "2195                    0.459                    0.0                      0.0   \n",
       "2196                    0.612                    0.0                      0.0   \n",
       "2197                    0.567                    0.0                      0.0   \n",
       "2198                    0.641                    0.0                      0.0   \n",
       "2199                    0.465                    0.0                      0.0   \n",
       "\n",
       "      auth_success_mqtt_to_hmi  auth_failure_mqtt_to_hmi  \\\n",
       "2195                         1                         0   \n",
       "2196                         1                         0   \n",
       "2197                         1                         0   \n",
       "2198                         1                         0   \n",
       "2199                         1                         0   \n",
       "\n",
       "      auth_success_ssh_to_iogateway  auth_failure_ssh_to_iotgateway   class  \n",
       "2195                              0                               0  normal  \n",
       "2196                              1                               1  normal  \n",
       "2197                              1                               0  normal  \n",
       "2198                              3                               1  normal  \n",
       "2199                              3                               1  normal  \n",
       "\n",
       "[5 rows x 35 columns]"
      ]
     },
     "execution_count": 6,
     "metadata": {},
     "output_type": "execute_result"
    }
   ],
   "source": [
    "# look at the bottom few rows of the data (should show the normal class in column 35)\n",
    "df_data.tail()"
   ]
  },
  {
   "cell_type": "code",
   "execution_count": 7,
   "id": "5f799507",
   "metadata": {},
   "outputs": [
    {
     "name": "stdout",
     "output_type": "stream",
     "text": [
      "Rows in dataset: 2200\n"
     ]
    }
   ],
   "source": [
    "# show number of rows in dataset\n",
    "print (\"Rows in dataset:\", len(df_data))\n",
    "\n"
   ]
  },
  {
   "cell_type": "code",
   "execution_count": 8,
   "id": "71902d78",
   "metadata": {},
   "outputs": [
    {
     "name": "stdout",
     "output_type": "stream",
     "text": [
      "Rows,columns in dataset: (2200, 35)\n"
     ]
    }
   ],
   "source": [
    "#view dimensions of dataset (rows and columns)\n",
    "print (\"Rows,columns in dataset:\", df_data.shape)\n"
   ]
  },
  {
   "cell_type": "code",
   "execution_count": 9,
   "id": "2c1fb1ee",
   "metadata": {
    "scrolled": true
   },
   "outputs": [
    {
     "data": {
      "text/plain": [
       "seconds_since_epoch               0\n",
       "datestamp                         0\n",
       "sp1_watts_generated               0\n",
       "sp2_watts_generated               0\n",
       "sp3_watts_generated               0\n",
       "iot_gateway_watt_consumption      0\n",
       "water_pump_watt_consumption       0\n",
       "valve1_watt_consumption           0\n",
       "valve2_watt_consumption           0\n",
       "valve3_watt_consumption           0\n",
       "ms1_watt_consumption              0\n",
       "ms2_watt_consumption              0\n",
       "ms3_watt_consumption              0\n",
       "temp1_watt_consumption            0\n",
       "temp2_watt_consumption            0\n",
       "temp3_watt_consumption            0\n",
       "battery_watt_hours                0\n",
       "valve1_litres                     0\n",
       "valve2_litres                     0\n",
       "valve3_litres                     0\n",
       "ms1_soil_moisture_pct             0\n",
       "ms2_soil_moisture_pct             0\n",
       "ms3_soil_moisture_pct             0\n",
       "temps1_soil_temperature_C         0\n",
       "temps2_soil_temperature_C         0\n",
       "temps3_soil_temperature_C         0\n",
       "latency_iotgateway_ms             0\n",
       "latency_logcollector_ms           0\n",
       "packetloss_iotgateway             0\n",
       "packetloss_logcollector           0\n",
       "auth_success_mqtt_to_hmi          0\n",
       "auth_failure_mqtt_to_hmi          0\n",
       "auth_success_ssh_to_iogateway     0\n",
       "auth_failure_ssh_to_iotgateway    0\n",
       "class                             0\n",
       "dtype: int64"
      ]
     },
     "execution_count": 9,
     "metadata": {},
     "output_type": "execute_result"
    }
   ],
   "source": [
    "# check to see if there are any missing values from the dataset\n",
    "\n",
    "# all of the results should be zero, which would indicate there are not any null values in the dataset\n",
    "# if there are any results greater than zero, it would indicate that some pieces of data are missing and should be cleaned up.\n",
    "df_data.isnull().sum()"
   ]
  },
  {
   "cell_type": "code",
   "execution_count": 10,
   "id": "b463c027",
   "metadata": {
    "scrolled": false
   },
   "outputs": [],
   "source": [
    "# show frequency distribution of values in variables\n",
    "# this shows how many different values are in each feature\n",
    "# HINT: this would be more useful to display in a histogram.  For example, bin values 1-10 in one column, 2-20 in next column, etc\n",
    "\n",
    "#for var in df_data.columns:\n",
    "#    print(df_data[var].value_counts())\n",
    "\n",
    "    "
   ]
  },
  {
   "cell_type": "code",
   "execution_count": 11,
   "id": "5e34ea16",
   "metadata": {},
   "outputs": [
    {
     "data": {
      "image/png": "[encoded data removed]",
      "text/plain": [
       "<Figure size 640x480 with 1 Axes>"
      ]
     },
     "metadata": {},
     "output_type": "display_data"
    }
   ],
   "source": [
    "# visualize any missing values from the dataset in a histogram\n",
    "# you want all the bars in the graph to be empty, which would indicate zero missing values\n",
    "\n",
    "df_data.isnull().sum().plot.bar()\n",
    "plt.show()"
   ]
  },
  {
   "cell_type": "code",
   "execution_count": 12,
   "id": "eeb6dbff",
   "metadata": {},
   "outputs": [
    {
     "name": "stdout",
     "output_type": "stream",
     "text": [
      "Checking for missing values in data set\n",
      "No NAs found\n"
     ]
    }
   ],
   "source": [
    "# another method to visalize missing values from dataset\n",
    "\n",
    "print (\"Checking for missing values in data set\")\n",
    "\n",
    "import matplotlib.pyplot as plt\n",
    "def plot_nas(df_data: pd.DataFrame):\n",
    "    if df_data.isnull().sum().sum() != 0:\n",
    "        na_df = (df_data.isnull().sum() / len(df)) * 100      \n",
    "        na_df = na_df.drop(na_df[na_df == 0].index).sort_values(ascending=False)\n",
    "        missing_data = pd.DataFrame({'Missing Ratio %' :na_df})\n",
    "        missing_data.plot(kind = \"barh\")\n",
    "        plt.show()\n",
    "    else:\n",
    "        print('No NAs found')\n",
    "plot_nas(df_data)"
   ]
  },
  {
   "cell_type": "code",
   "execution_count": 13,
   "id": "c4760753",
   "metadata": {
    "scrolled": true
   },
   "outputs": [
    {
     "data": {
      "text/plain": [
       "Index(['seconds_since_epoch', 'datestamp', 'sp1_watts_generated',\n",
       "       'sp2_watts_generated', 'sp3_watts_generated',\n",
       "       'iot_gateway_watt_consumption', 'water_pump_watt_consumption',\n",
       "       'valve1_watt_consumption', 'valve2_watt_consumption',\n",
       "       'valve3_watt_consumption', 'ms1_watt_consumption',\n",
       "       'ms2_watt_consumption', 'ms3_watt_consumption',\n",
       "       'temp1_watt_consumption', 'temp2_watt_consumption',\n",
       "       'temp3_watt_consumption', 'battery_watt_hours', 'valve1_litres',\n",
       "       'valve2_litres', 'valve3_litres', 'ms1_soil_moisture_pct',\n",
       "       'ms2_soil_moisture_pct', 'ms3_soil_moisture_pct',\n",
       "       'temps1_soil_temperature_C', 'temps2_soil_temperature_C',\n",
       "       'temps3_soil_temperature_C', 'latency_iotgateway_ms',\n",
       "       'latency_logcollector_ms', 'packetloss_iotgateway',\n",
       "       'packetloss_logcollector', 'auth_success_mqtt_to_hmi',\n",
       "       'auth_failure_mqtt_to_hmi', 'auth_success_ssh_to_iogateway',\n",
       "       'auth_failure_ssh_to_iotgateway', 'class'],\n",
       "      dtype='object')"
      ]
     },
     "execution_count": 13,
     "metadata": {},
     "output_type": "execute_result"
    }
   ],
   "source": [
    "#show the names of the columns (also called feature names)\n",
    "df_data.columns"
   ]
  },
  {
   "cell_type": "code",
   "execution_count": 14,
   "id": "b0c85c43",
   "metadata": {},
   "outputs": [
    {
     "name": "stdout",
     "output_type": "stream",
     "text": [
      "<class 'pandas.core.frame.DataFrame'>\n",
      "RangeIndex: 2200 entries, 0 to 2199\n",
      "Data columns (total 35 columns):\n",
      " #   Column                          Non-Null Count  Dtype  \n",
      "---  ------                          --------------  -----  \n",
      " 0   seconds_since_epoch             2200 non-null   int64  \n",
      " 1   datestamp                       2200 non-null   object \n",
      " 2   sp1_watts_generated             2200 non-null   float64\n",
      " 3   sp2_watts_generated             2200 non-null   float64\n",
      " 4   sp3_watts_generated             2200 non-null   float64\n",
      " 5   iot_gateway_watt_consumption    2200 non-null   float64\n",
      " 6   water_pump_watt_consumption     2200 non-null   float64\n",
      " 7   valve1_watt_consumption         2200 non-null   float64\n",
      " 8   valve2_watt_consumption         2200 non-null   float64\n",
      " 9   valve3_watt_consumption         2200 non-null   float64\n",
      " 10  ms1_watt_consumption            2200 non-null   float64\n",
      " 11  ms2_watt_consumption            2200 non-null   float64\n",
      " 12  ms3_watt_consumption            2200 non-null   float64\n",
      " 13  temp1_watt_consumption          2200 non-null   float64\n",
      " 14  temp2_watt_consumption          2200 non-null   float64\n",
      " 15  temp3_watt_consumption          2200 non-null   float64\n",
      " 16  battery_watt_hours              2200 non-null   float64\n",
      " 17  valve1_litres                   2200 non-null   float64\n",
      " 18  valve2_litres                   2200 non-null   float64\n",
      " 19  valve3_litres                   2200 non-null   float64\n",
      " 20  ms1_soil_moisture_pct           2200 non-null   float64\n",
      " 21  ms2_soil_moisture_pct           2200 non-null   float64\n",
      " 22  ms3_soil_moisture_pct           2200 non-null   float64\n",
      " 23  temps1_soil_temperature_C       2200 non-null   float64\n",
      " 24  temps2_soil_temperature_C       2200 non-null   float64\n",
      " 25  temps3_soil_temperature_C       2200 non-null   float64\n",
      " 26  latency_iotgateway_ms           2200 non-null   float64\n",
      " 27  latency_logcollector_ms         2200 non-null   float64\n",
      " 28  packetloss_iotgateway           2200 non-null   float64\n",
      " 29  packetloss_logcollector         2200 non-null   float64\n",
      " 30  auth_success_mqtt_to_hmi        2200 non-null   int64  \n",
      " 31  auth_failure_mqtt_to_hmi        2200 non-null   int64  \n",
      " 32  auth_success_ssh_to_iogateway   2200 non-null   int64  \n",
      " 33  auth_failure_ssh_to_iotgateway  2200 non-null   int64  \n",
      " 34  class                           2200 non-null   object \n",
      "dtypes: float64(28), int64(5), object(2)\n",
      "memory usage: 601.7+ KB\n"
     ]
    }
   ],
   "source": [
    "#show summary info about dataset\n",
    "df_data.info()"
   ]
  },
  {
   "cell_type": "code",
   "execution_count": 15,
   "id": "6cdb2cda",
   "metadata": {},
   "outputs": [
    {
     "data": {
      "text/plain": [
       "seconds_since_epoch                 int64\n",
       "datestamp                          object\n",
       "sp1_watts_generated               float64\n",
       "sp2_watts_generated               float64\n",
       "sp3_watts_generated               float64\n",
       "iot_gateway_watt_consumption      float64\n",
       "water_pump_watt_consumption       float64\n",
       "valve1_watt_consumption           float64\n",
       "valve2_watt_consumption           float64\n",
       "valve3_watt_consumption           float64\n",
       "ms1_watt_consumption              float64\n",
       "ms2_watt_consumption              float64\n",
       "ms3_watt_consumption              float64\n",
       "temp1_watt_consumption            float64\n",
       "temp2_watt_consumption            float64\n",
       "temp3_watt_consumption            float64\n",
       "battery_watt_hours                float64\n",
       "valve1_litres                     float64\n",
       "valve2_litres                     float64\n",
       "valve3_litres                     float64\n",
       "ms1_soil_moisture_pct             float64\n",
       "ms2_soil_moisture_pct             float64\n",
       "ms3_soil_moisture_pct             float64\n",
       "temps1_soil_temperature_C         float64\n",
       "temps2_soil_temperature_C         float64\n",
       "temps3_soil_temperature_C         float64\n",
       "latency_iotgateway_ms             float64\n",
       "latency_logcollector_ms           float64\n",
       "packetloss_iotgateway             float64\n",
       "packetloss_logcollector           float64\n",
       "auth_success_mqtt_to_hmi            int64\n",
       "auth_failure_mqtt_to_hmi            int64\n",
       "auth_success_ssh_to_iogateway       int64\n",
       "auth_failure_ssh_to_iotgateway      int64\n",
       "class                              object\n",
       "dtype: object"
      ]
     },
     "execution_count": 15,
     "metadata": {},
     "output_type": "execute_result"
    }
   ],
   "source": [
    "# show data types \n",
    "df_data.dtypes"
   ]
  },
  {
   "cell_type": "markdown",
   "id": "e7a6c814",
   "metadata": {},
   "source": [
    "# 4 - dimensionality reduction by removing features without predictive value"
   ]
  },
  {
   "cell_type": "code",
   "execution_count": 16,
   "id": "f7c573dc",
   "metadata": {},
   "outputs": [],
   "source": [
    "# drop any redundant columns from the dataset which does not have any predictive power. \n",
    "\n",
    "#In this example, seconds_since_epoch and datestamp do not have any predictive value because they are just timestamps\n",
    "df_data.drop('seconds_since_epoch', axis=1, inplace=True)\n",
    "df_data.drop('datestamp', axis=1, inplace=True)\n",
    "\n",
    "# the water pump only runs for a brief period once per day, filling up a reservoir holding tank\n",
    "# the values are zero for most of the day, so this feature has limited predictive value\n",
    "df_data.drop('water_pump_watt_consumption', axis=1, inplace=True)\n",
    "\n",
    "\n",
    "# These columns are for ping packet loss.  \n",
    "# If the value is ever >0, the data will be in the \"abnormal\" class.\n",
    "# In other words, this allows the learning model to \"cheat\" by ignoring all the other features if this value is ever >0\n",
    "# So, this particular data feature should be tracked not with machine learning, but with a simple threshold-based detection.\n",
    "df_data.drop('packetloss_iotgateway', axis=1, inplace=True)\n",
    "df_data.drop('packetloss_logcollector', axis=1, inplace=True)\n",
    "\n",
    "\n",
    "# Same issue as the previous ping features.\n",
    "# These colums are for machine-to-machine data transfers, if the authentication failures are ever >0, the data is abnormal\n",
    "# In other words, this allows the learning model to \"cheat\" by ignoring all the other features if this value is ever >0\n",
    "# So, this particular data feature should be tracked not with machine learning, but with a simple threshold-based detection.\n",
    "df_data.drop('auth_failure_mqtt_to_hmi', axis=1, inplace=True)\n",
    "df_data.drop('auth_failure_ssh_to_iotgateway', axis=1, inplace=True)\n"
   ]
  },
  {
   "cell_type": "code",
   "execution_count": 17,
   "id": "d0c14c6e",
   "metadata": {},
   "outputs": [
    {
     "name": "stdout",
     "output_type": "stream",
     "text": [
      "<class 'pandas.core.frame.DataFrame'>\n",
      "RangeIndex: 2200 entries, 0 to 2199\n",
      "Data columns (total 28 columns):\n",
      " #   Column                         Non-Null Count  Dtype  \n",
      "---  ------                         --------------  -----  \n",
      " 0   sp1_watts_generated            2200 non-null   float64\n",
      " 1   sp2_watts_generated            2200 non-null   float64\n",
      " 2   sp3_watts_generated            2200 non-null   float64\n",
      " 3   iot_gateway_watt_consumption   2200 non-null   float64\n",
      " 4   valve1_watt_consumption        2200 non-null   float64\n",
      " 5   valve2_watt_consumption        2200 non-null   float64\n",
      " 6   valve3_watt_consumption        2200 non-null   float64\n",
      " 7   ms1_watt_consumption           2200 non-null   float64\n",
      " 8   ms2_watt_consumption           2200 non-null   float64\n",
      " 9   ms3_watt_consumption           2200 non-null   float64\n",
      " 10  temp1_watt_consumption         2200 non-null   float64\n",
      " 11  temp2_watt_consumption         2200 non-null   float64\n",
      " 12  temp3_watt_consumption         2200 non-null   float64\n",
      " 13  battery_watt_hours             2200 non-null   float64\n",
      " 14  valve1_litres                  2200 non-null   float64\n",
      " 15  valve2_litres                  2200 non-null   float64\n",
      " 16  valve3_litres                  2200 non-null   float64\n",
      " 17  ms1_soil_moisture_pct          2200 non-null   float64\n",
      " 18  ms2_soil_moisture_pct          2200 non-null   float64\n",
      " 19  ms3_soil_moisture_pct          2200 non-null   float64\n",
      " 20  temps1_soil_temperature_C      2200 non-null   float64\n",
      " 21  temps2_soil_temperature_C      2200 non-null   float64\n",
      " 22  temps3_soil_temperature_C      2200 non-null   float64\n",
      " 23  latency_iotgateway_ms          2200 non-null   float64\n",
      " 24  latency_logcollector_ms        2200 non-null   float64\n",
      " 25  auth_success_mqtt_to_hmi       2200 non-null   int64  \n",
      " 26  auth_success_ssh_to_iogateway  2200 non-null   int64  \n",
      " 27  class                          2200 non-null   object \n",
      "dtypes: float64(25), int64(2), object(1)\n",
      "memory usage: 481.4+ KB\n"
     ]
    }
   ],
   "source": [
    "#Look at the dataset again, you should see several columns have been dropped\n",
    "df_data.info()"
   ]
  },
  {
   "cell_type": "code",
   "execution_count": 18,
   "id": "82c1ee70",
   "metadata": {},
   "outputs": [
    {
     "name": "stdout",
     "output_type": "stream",
     "text": [
      "Rows,columsn in dataset:\n"
     ]
    },
    {
     "data": {
      "text/plain": [
       "(2200, 28)"
      ]
     },
     "execution_count": 18,
     "metadata": {},
     "output_type": "execute_result"
    }
   ],
   "source": [
    "# look at the dimensions (rows and columns) of the dataset again after removing a few colums\n",
    "#view dimensions of dataset (rows and columns)\n",
    "print (\"Rows,columsn in dataset:\")\n",
    "df_data.shape  "
   ]
  },
  {
   "cell_type": "markdown",
   "id": "6a16276f",
   "metadata": {},
   "source": [
    "# 5 - Get Features into a NumPy Array"
   ]
  },
  {
   "cell_type": "code",
   "execution_count": 19,
   "id": "a6262c59",
   "metadata": {},
   "outputs": [],
   "source": [
    "\n",
    "#X = df_data[['latency_iotgateway_ms', 'latency_logcollector_ms']].values\n",
    "X = df_data.values  #assign the entire dataframe to X\n",
    "\n",
    "# Drop the \"class\" column from this array because we only want the data with predictive values, \n",
    "# and the \"class\" column is the binary classifier\n",
    "\n",
    "# [rows,colums], so in this example, do nothing with the rows (before the first comma), \n",
    "# use negative indexing -1 to drop the last column\n",
    "X = X[:,:-1]\n",
    "\n"
   ]
  },
  {
   "cell_type": "code",
   "execution_count": 20,
   "id": "97ea9768",
   "metadata": {},
   "outputs": [
    {
     "data": {
      "text/plain": [
       "array([[0.0, 0.0, 0.0, ..., 0.527, 11, 4],\n",
       "       [0.0, 0.0, 0.0, ..., 1.117, 15, 11],\n",
       "       [0.0, 0.0, 0.0, ..., 0.187, 3, 8],\n",
       "       ...,\n",
       "       [27.96, 28.65, 28.04, ..., 0.567, 1, 1],\n",
       "       [33.0, 30.94, 29.79, ..., 0.641, 1, 3],\n",
       "       [31.08, 32.72, 31.65, ..., 0.465, 1, 3]], dtype=object)"
      ]
     },
     "execution_count": 20,
     "metadata": {},
     "output_type": "execute_result"
    }
   ],
   "source": [
    "# sanity check, look at the first 1 rows, all columns\n",
    "# since the data has not been scaled/normalized yet, you will see values larger than 1\n",
    "#X[:1, :]  #slicing\n",
    "#X[0]  #indexing\n",
    "X\n"
   ]
  },
  {
   "cell_type": "markdown",
   "id": "bba3418e",
   "metadata": {},
   "source": [
    "# 6 - perform feature scaling with MinMaxScaler\n"
   ]
  },
  {
   "cell_type": "code",
   "execution_count": 21,
   "id": "000d8f25",
   "metadata": {},
   "outputs": [],
   "source": [
    "# take all the values in the X array and scale them to values between 0 and 1 \n",
    "# https://scikit-learn.org/stable/modules/generated/sklearn.preprocessing.MinMaxScaler.html\n",
    "# https://scikit-learn.org/stable/auto_examples/applications/plot_digits_denoising.html#sphx-glr-auto-examples-applications-plot-digits-denoising-py\n",
    "\n",
    "X = MinMaxScaler(feature_range=(0,1)).fit_transform(X)\n"
   ]
  },
  {
   "cell_type": "code",
   "execution_count": 22,
   "id": "9239ced6",
   "metadata": {},
   "outputs": [
    {
     "data": {
      "text/plain": [
       "array([[0.        , 0.        , 0.        , 0.98717949, 0.96969697,\n",
       "        0.375     , 0.3030303 , 0.42857143, 0.14285714, 0.28571429,\n",
       "        0.28571429, 0.71428571, 0.42857143, 0.47031739, 0.57697121,\n",
       "        0.34230288, 0.31308704, 0.75488163, 0.78494168, 0.43921038,\n",
       "        0.65853659, 0.24944568, 0.81634938, 0.91806452, 0.27349081,\n",
       "        0.58823529, 0.36363636]])"
      ]
     },
     "execution_count": 22,
     "metadata": {},
     "output_type": "execute_result"
    }
   ],
   "source": [
    "# sanity check, look at the first 1 rows, all columns\n",
    "# since the data has been scaled/normalized, all the values will be between 0 and 1\n",
    "X[:1, :]  #slicing a 2-dimensional array (keeps the shape)\n"
   ]
  },
  {
   "cell_type": "markdown",
   "id": "5d951b85",
   "metadata": {},
   "source": [
    "Alternatively, instead of using MinMaxScaler, you can use StandardScaler,\n",
    "which creates a mean of 0, standard deviation of 1, with normal distribution.\n",
    "https://scikit-learn.org/stable/modules/generated/sklearn.preprocessing.StandardScaler.html\n",
    " \n",
    "\n",
    " "
   ]
  },
  {
   "cell_type": "code",
   "execution_count": null,
   "id": "121e995a",
   "metadata": {},
   "outputs": [],
   "source": []
  },
  {
   "cell_type": "markdown",
   "id": "0677d1fc",
   "metadata": {},
   "source": [
    "# 7 - Get Class Labels into a NumPy array\n"
   ]
  },
  {
   "cell_type": "code",
   "execution_count": 23,
   "id": "c4b9444f",
   "metadata": {},
   "outputs": [],
   "source": [
    "# This will add a new column called \"ClassLabel\", which converts the \"normal|abnormal\" \n",
    "# alphabetic content of the \"class\" column to an integer\n",
    "# 2-class models do not assume discrete values for each class, often normal=0, abnormal=1 is used, \n",
    "# but we will use -1 and 1 because the unsupervised class wants those values\n",
    "# 1-class models assume normal=-1, abnormal=1  (but these values also work for supervised models)\n",
    "\n",
    "label_dict = {'normal': 1, 'abnormal': -1}\n",
    "\n",
    "df_data['ClassLabel'] = df_data['class'].map(label_dict)\n"
   ]
  },
  {
   "cell_type": "code",
   "execution_count": 24,
   "id": "2a56a85d",
   "metadata": {},
   "outputs": [
    {
     "data": {
      "text/html": [
       "<div>\n",
       "<style scoped>\n",
       "    .dataframe tbody tr th:only-of-type {\n",
       "        vertical-align: middle;\n",
       "    }\n",
       "\n",
       "    .dataframe tbody tr th {\n",
       "        vertical-align: top;\n",
       "    }\n",
       "\n",
       "    .dataframe thead th {\n",
       "        text-align: right;\n",
       "    }\n",
       "</style>\n",
       "<table border=\"1\" class=\"dataframe\">\n",
       "  <thead>\n",
       "    <tr style=\"text-align: right;\">\n",
       "      <th></th>\n",
       "      <th>sp1_watts_generated</th>\n",
       "      <th>sp2_watts_generated</th>\n",
       "      <th>sp3_watts_generated</th>\n",
       "      <th>iot_gateway_watt_consumption</th>\n",
       "      <th>valve1_watt_consumption</th>\n",
       "      <th>valve2_watt_consumption</th>\n",
       "      <th>valve3_watt_consumption</th>\n",
       "      <th>ms1_watt_consumption</th>\n",
       "      <th>ms2_watt_consumption</th>\n",
       "      <th>ms3_watt_consumption</th>\n",
       "      <th>...</th>\n",
       "      <th>ms3_soil_moisture_pct</th>\n",
       "      <th>temps1_soil_temperature_C</th>\n",
       "      <th>temps2_soil_temperature_C</th>\n",
       "      <th>temps3_soil_temperature_C</th>\n",
       "      <th>latency_iotgateway_ms</th>\n",
       "      <th>latency_logcollector_ms</th>\n",
       "      <th>auth_success_mqtt_to_hmi</th>\n",
       "      <th>auth_success_ssh_to_iogateway</th>\n",
       "      <th>class</th>\n",
       "      <th>ClassLabel</th>\n",
       "    </tr>\n",
       "  </thead>\n",
       "  <tbody>\n",
       "    <tr>\n",
       "      <th>0</th>\n",
       "      <td>0.0</td>\n",
       "      <td>0.0</td>\n",
       "      <td>0.0</td>\n",
       "      <td>1.63</td>\n",
       "      <td>0.32</td>\n",
       "      <td>0.12</td>\n",
       "      <td>0.10</td>\n",
       "      <td>0.03</td>\n",
       "      <td>0.01</td>\n",
       "      <td>0.02</td>\n",
       "      <td>...</td>\n",
       "      <td>69.53</td>\n",
       "      <td>20.88</td>\n",
       "      <td>13.50</td>\n",
       "      <td>23.76</td>\n",
       "      <td>1.423</td>\n",
       "      <td>0.527</td>\n",
       "      <td>11</td>\n",
       "      <td>4</td>\n",
       "      <td>abnormal</td>\n",
       "      <td>-1</td>\n",
       "    </tr>\n",
       "    <tr>\n",
       "      <th>1</th>\n",
       "      <td>0.0</td>\n",
       "      <td>0.0</td>\n",
       "      <td>0.0</td>\n",
       "      <td>1.12</td>\n",
       "      <td>0.03</td>\n",
       "      <td>0.16</td>\n",
       "      <td>0.10</td>\n",
       "      <td>0.03</td>\n",
       "      <td>0.01</td>\n",
       "      <td>0.01</td>\n",
       "      <td>...</td>\n",
       "      <td>29.00</td>\n",
       "      <td>13.86</td>\n",
       "      <td>16.56</td>\n",
       "      <td>16.74</td>\n",
       "      <td>1.505</td>\n",
       "      <td>1.117</td>\n",
       "      <td>15</td>\n",
       "      <td>11</td>\n",
       "      <td>abnormal</td>\n",
       "      <td>-1</td>\n",
       "    </tr>\n",
       "    <tr>\n",
       "      <th>2</th>\n",
       "      <td>0.0</td>\n",
       "      <td>0.0</td>\n",
       "      <td>0.0</td>\n",
       "      <td>0.28</td>\n",
       "      <td>0.15</td>\n",
       "      <td>0.00</td>\n",
       "      <td>0.31</td>\n",
       "      <td>0.00</td>\n",
       "      <td>0.01</td>\n",
       "      <td>0.04</td>\n",
       "      <td>...</td>\n",
       "      <td>14.33</td>\n",
       "      <td>23.40</td>\n",
       "      <td>14.22</td>\n",
       "      <td>13.50</td>\n",
       "      <td>0.137</td>\n",
       "      <td>0.187</td>\n",
       "      <td>3</td>\n",
       "      <td>8</td>\n",
       "      <td>abnormal</td>\n",
       "      <td>-1</td>\n",
       "    </tr>\n",
       "    <tr>\n",
       "      <th>3</th>\n",
       "      <td>0.0</td>\n",
       "      <td>0.0</td>\n",
       "      <td>0.0</td>\n",
       "      <td>1.16</td>\n",
       "      <td>0.26</td>\n",
       "      <td>0.08</td>\n",
       "      <td>0.16</td>\n",
       "      <td>0.05</td>\n",
       "      <td>0.04</td>\n",
       "      <td>0.05</td>\n",
       "      <td>...</td>\n",
       "      <td>13.99</td>\n",
       "      <td>13.32</td>\n",
       "      <td>23.94</td>\n",
       "      <td>9.36</td>\n",
       "      <td>1.240</td>\n",
       "      <td>0.754</td>\n",
       "      <td>3</td>\n",
       "      <td>11</td>\n",
       "      <td>abnormal</td>\n",
       "      <td>-1</td>\n",
       "    </tr>\n",
       "    <tr>\n",
       "      <th>4</th>\n",
       "      <td>0.0</td>\n",
       "      <td>0.0</td>\n",
       "      <td>0.0</td>\n",
       "      <td>0.97</td>\n",
       "      <td>0.32</td>\n",
       "      <td>0.31</td>\n",
       "      <td>0.15</td>\n",
       "      <td>0.06</td>\n",
       "      <td>0.03</td>\n",
       "      <td>0.04</td>\n",
       "      <td>...</td>\n",
       "      <td>12.28</td>\n",
       "      <td>14.22</td>\n",
       "      <td>20.34</td>\n",
       "      <td>21.60</td>\n",
       "      <td>1.336</td>\n",
       "      <td>0.386</td>\n",
       "      <td>9</td>\n",
       "      <td>3</td>\n",
       "      <td>abnormal</td>\n",
       "      <td>-1</td>\n",
       "    </tr>\n",
       "  </tbody>\n",
       "</table>\n",
       "<p>5 rows × 29 columns</p>\n",
       "</div>"
      ],
      "text/plain": [
       "   sp1_watts_generated  sp2_watts_generated  sp3_watts_generated  \\\n",
       "0                  0.0                  0.0                  0.0   \n",
       "1                  0.0                  0.0                  0.0   \n",
       "2                  0.0                  0.0                  0.0   \n",
       "3                  0.0                  0.0                  0.0   \n",
       "4                  0.0                  0.0                  0.0   \n",
       "\n",
       "   iot_gateway_watt_consumption  valve1_watt_consumption  \\\n",
       "0                          1.63                     0.32   \n",
       "1                          1.12                     0.03   \n",
       "2                          0.28                     0.15   \n",
       "3                          1.16                     0.26   \n",
       "4                          0.97                     0.32   \n",
       "\n",
       "   valve2_watt_consumption  valve3_watt_consumption  ms1_watt_consumption  \\\n",
       "0                     0.12                     0.10                  0.03   \n",
       "1                     0.16                     0.10                  0.03   \n",
       "2                     0.00                     0.31                  0.00   \n",
       "3                     0.08                     0.16                  0.05   \n",
       "4                     0.31                     0.15                  0.06   \n",
       "\n",
       "   ms2_watt_consumption  ms3_watt_consumption  ...  ms3_soil_moisture_pct  \\\n",
       "0                  0.01                  0.02  ...                  69.53   \n",
       "1                  0.01                  0.01  ...                  29.00   \n",
       "2                  0.01                  0.04  ...                  14.33   \n",
       "3                  0.04                  0.05  ...                  13.99   \n",
       "4                  0.03                  0.04  ...                  12.28   \n",
       "\n",
       "   temps1_soil_temperature_C  temps2_soil_temperature_C  \\\n",
       "0                      20.88                      13.50   \n",
       "1                      13.86                      16.56   \n",
       "2                      23.40                      14.22   \n",
       "3                      13.32                      23.94   \n",
       "4                      14.22                      20.34   \n",
       "\n",
       "   temps3_soil_temperature_C  latency_iotgateway_ms  latency_logcollector_ms  \\\n",
       "0                      23.76                  1.423                    0.527   \n",
       "1                      16.74                  1.505                    1.117   \n",
       "2                      13.50                  0.137                    0.187   \n",
       "3                       9.36                  1.240                    0.754   \n",
       "4                      21.60                  1.336                    0.386   \n",
       "\n",
       "   auth_success_mqtt_to_hmi  auth_success_ssh_to_iogateway     class  \\\n",
       "0                        11                              4  abnormal   \n",
       "1                        15                             11  abnormal   \n",
       "2                         3                              8  abnormal   \n",
       "3                         3                             11  abnormal   \n",
       "4                         9                              3  abnormal   \n",
       "\n",
       "   ClassLabel  \n",
       "0          -1  \n",
       "1          -1  \n",
       "2          -1  \n",
       "3          -1  \n",
       "4          -1  \n",
       "\n",
       "[5 rows x 29 columns]"
      ]
     },
     "execution_count": 24,
     "metadata": {},
     "output_type": "execute_result"
    }
   ],
   "source": [
    "# look at the top few rows of the data (should show the abnormal class in the last column)\n",
    "df_data.head()"
   ]
  },
  {
   "cell_type": "code",
   "execution_count": 25,
   "id": "c3251224",
   "metadata": {},
   "outputs": [
    {
     "data": {
      "text/html": [
       "<div>\n",
       "<style scoped>\n",
       "    .dataframe tbody tr th:only-of-type {\n",
       "        vertical-align: middle;\n",
       "    }\n",
       "\n",
       "    .dataframe tbody tr th {\n",
       "        vertical-align: top;\n",
       "    }\n",
       "\n",
       "    .dataframe thead th {\n",
       "        text-align: right;\n",
       "    }\n",
       "</style>\n",
       "<table border=\"1\" class=\"dataframe\">\n",
       "  <thead>\n",
       "    <tr style=\"text-align: right;\">\n",
       "      <th></th>\n",
       "      <th>sp1_watts_generated</th>\n",
       "      <th>sp2_watts_generated</th>\n",
       "      <th>sp3_watts_generated</th>\n",
       "      <th>iot_gateway_watt_consumption</th>\n",
       "      <th>valve1_watt_consumption</th>\n",
       "      <th>valve2_watt_consumption</th>\n",
       "      <th>valve3_watt_consumption</th>\n",
       "      <th>ms1_watt_consumption</th>\n",
       "      <th>ms2_watt_consumption</th>\n",
       "      <th>ms3_watt_consumption</th>\n",
       "      <th>...</th>\n",
       "      <th>ms3_soil_moisture_pct</th>\n",
       "      <th>temps1_soil_temperature_C</th>\n",
       "      <th>temps2_soil_temperature_C</th>\n",
       "      <th>temps3_soil_temperature_C</th>\n",
       "      <th>latency_iotgateway_ms</th>\n",
       "      <th>latency_logcollector_ms</th>\n",
       "      <th>auth_success_mqtt_to_hmi</th>\n",
       "      <th>auth_success_ssh_to_iogateway</th>\n",
       "      <th>class</th>\n",
       "      <th>ClassLabel</th>\n",
       "    </tr>\n",
       "  </thead>\n",
       "  <tbody>\n",
       "    <tr>\n",
       "      <th>2195</th>\n",
       "      <td>32.72</td>\n",
       "      <td>32.85</td>\n",
       "      <td>32.22</td>\n",
       "      <td>0.90</td>\n",
       "      <td>0.16</td>\n",
       "      <td>0.18</td>\n",
       "      <td>0.18</td>\n",
       "      <td>0.03</td>\n",
       "      <td>0.03</td>\n",
       "      <td>0.03</td>\n",
       "      <td>...</td>\n",
       "      <td>74.36</td>\n",
       "      <td>20.4</td>\n",
       "      <td>20.6</td>\n",
       "      <td>20.2</td>\n",
       "      <td>0.520</td>\n",
       "      <td>0.459</td>\n",
       "      <td>1</td>\n",
       "      <td>0</td>\n",
       "      <td>normal</td>\n",
       "      <td>1</td>\n",
       "    </tr>\n",
       "    <tr>\n",
       "      <th>2196</th>\n",
       "      <td>27.34</td>\n",
       "      <td>30.48</td>\n",
       "      <td>29.71</td>\n",
       "      <td>0.78</td>\n",
       "      <td>0.16</td>\n",
       "      <td>0.19</td>\n",
       "      <td>0.19</td>\n",
       "      <td>0.03</td>\n",
       "      <td>0.03</td>\n",
       "      <td>0.03</td>\n",
       "      <td>...</td>\n",
       "      <td>68.43</td>\n",
       "      <td>19.6</td>\n",
       "      <td>20.6</td>\n",
       "      <td>20.6</td>\n",
       "      <td>0.483</td>\n",
       "      <td>0.612</td>\n",
       "      <td>1</td>\n",
       "      <td>1</td>\n",
       "      <td>normal</td>\n",
       "      <td>1</td>\n",
       "    </tr>\n",
       "    <tr>\n",
       "      <th>2197</th>\n",
       "      <td>27.96</td>\n",
       "      <td>28.65</td>\n",
       "      <td>28.04</td>\n",
       "      <td>0.78</td>\n",
       "      <td>0.23</td>\n",
       "      <td>0.21</td>\n",
       "      <td>0.21</td>\n",
       "      <td>0.03</td>\n",
       "      <td>0.03</td>\n",
       "      <td>0.04</td>\n",
       "      <td>...</td>\n",
       "      <td>80.55</td>\n",
       "      <td>20.2</td>\n",
       "      <td>19.0</td>\n",
       "      <td>20.6</td>\n",
       "      <td>0.356</td>\n",
       "      <td>0.567</td>\n",
       "      <td>1</td>\n",
       "      <td>1</td>\n",
       "      <td>normal</td>\n",
       "      <td>1</td>\n",
       "    </tr>\n",
       "    <tr>\n",
       "      <th>2198</th>\n",
       "      <td>33.00</td>\n",
       "      <td>30.94</td>\n",
       "      <td>29.79</td>\n",
       "      <td>0.89</td>\n",
       "      <td>0.18</td>\n",
       "      <td>0.23</td>\n",
       "      <td>0.22</td>\n",
       "      <td>0.03</td>\n",
       "      <td>0.03</td>\n",
       "      <td>0.04</td>\n",
       "      <td>...</td>\n",
       "      <td>76.16</td>\n",
       "      <td>19.2</td>\n",
       "      <td>20.4</td>\n",
       "      <td>19.2</td>\n",
       "      <td>0.397</td>\n",
       "      <td>0.641</td>\n",
       "      <td>1</td>\n",
       "      <td>3</td>\n",
       "      <td>normal</td>\n",
       "      <td>1</td>\n",
       "    </tr>\n",
       "    <tr>\n",
       "      <th>2199</th>\n",
       "      <td>31.08</td>\n",
       "      <td>32.72</td>\n",
       "      <td>31.65</td>\n",
       "      <td>0.76</td>\n",
       "      <td>0.17</td>\n",
       "      <td>0.23</td>\n",
       "      <td>0.16</td>\n",
       "      <td>0.04</td>\n",
       "      <td>0.03</td>\n",
       "      <td>0.03</td>\n",
       "      <td>...</td>\n",
       "      <td>68.44</td>\n",
       "      <td>20.0</td>\n",
       "      <td>19.8</td>\n",
       "      <td>20.8</td>\n",
       "      <td>0.406</td>\n",
       "      <td>0.465</td>\n",
       "      <td>1</td>\n",
       "      <td>3</td>\n",
       "      <td>normal</td>\n",
       "      <td>1</td>\n",
       "    </tr>\n",
       "  </tbody>\n",
       "</table>\n",
       "<p>5 rows × 29 columns</p>\n",
       "</div>"
      ],
      "text/plain": [
       "      sp1_watts_generated  sp2_watts_generated  sp3_watts_generated  \\\n",
       "2195                32.72                32.85                32.22   \n",
       "2196                27.34                30.48                29.71   \n",
       "2197                27.96                28.65                28.04   \n",
       "2198                33.00                30.94                29.79   \n",
       "2199                31.08                32.72                31.65   \n",
       "\n",
       "      iot_gateway_watt_consumption  valve1_watt_consumption  \\\n",
       "2195                          0.90                     0.16   \n",
       "2196                          0.78                     0.16   \n",
       "2197                          0.78                     0.23   \n",
       "2198                          0.89                     0.18   \n",
       "2199                          0.76                     0.17   \n",
       "\n",
       "      valve2_watt_consumption  valve3_watt_consumption  ms1_watt_consumption  \\\n",
       "2195                     0.18                     0.18                  0.03   \n",
       "2196                     0.19                     0.19                  0.03   \n",
       "2197                     0.21                     0.21                  0.03   \n",
       "2198                     0.23                     0.22                  0.03   \n",
       "2199                     0.23                     0.16                  0.04   \n",
       "\n",
       "      ms2_watt_consumption  ms3_watt_consumption  ...  ms3_soil_moisture_pct  \\\n",
       "2195                  0.03                  0.03  ...                  74.36   \n",
       "2196                  0.03                  0.03  ...                  68.43   \n",
       "2197                  0.03                  0.04  ...                  80.55   \n",
       "2198                  0.03                  0.04  ...                  76.16   \n",
       "2199                  0.03                  0.03  ...                  68.44   \n",
       "\n",
       "      temps1_soil_temperature_C  temps2_soil_temperature_C  \\\n",
       "2195                       20.4                       20.6   \n",
       "2196                       19.6                       20.6   \n",
       "2197                       20.2                       19.0   \n",
       "2198                       19.2                       20.4   \n",
       "2199                       20.0                       19.8   \n",
       "\n",
       "      temps3_soil_temperature_C  latency_iotgateway_ms  \\\n",
       "2195                       20.2                  0.520   \n",
       "2196                       20.6                  0.483   \n",
       "2197                       20.6                  0.356   \n",
       "2198                       19.2                  0.397   \n",
       "2199                       20.8                  0.406   \n",
       "\n",
       "      latency_logcollector_ms  auth_success_mqtt_to_hmi  \\\n",
       "2195                    0.459                         1   \n",
       "2196                    0.612                         1   \n",
       "2197                    0.567                         1   \n",
       "2198                    0.641                         1   \n",
       "2199                    0.465                         1   \n",
       "\n",
       "      auth_success_ssh_to_iogateway   class  ClassLabel  \n",
       "2195                              0  normal           1  \n",
       "2196                              1  normal           1  \n",
       "2197                              1  normal           1  \n",
       "2198                              3  normal           1  \n",
       "2199                              3  normal           1  \n",
       "\n",
       "[5 rows x 29 columns]"
      ]
     },
     "execution_count": 25,
     "metadata": {},
     "output_type": "execute_result"
    }
   ],
   "source": [
    "# look at the bottom few rows of the data (should show the normal class in the last column)\n",
    "df_data.tail()"
   ]
  },
  {
   "cell_type": "code",
   "execution_count": 26,
   "id": "7f9fe0a0",
   "metadata": {},
   "outputs": [
    {
     "data": {
      "text/plain": [
       "array([-1, -1, -1, -1, -1], dtype=int64)"
      ]
     },
     "execution_count": 26,
     "metadata": {},
     "output_type": "execute_result"
    }
   ],
   "source": [
    "\n",
    "# define the Class Labels (should be -1 normal or 1 for abnormal)\n",
    "y = df_data['ClassLabel'].values\n",
    "\n",
    "#show the first 5 rows of the y array (which holds the classifier -1 or 1)\n",
    "y[:5]  "
   ]
  },
  {
   "cell_type": "code",
   "execution_count": 27,
   "id": "37a28555",
   "metadata": {},
   "outputs": [
    {
     "data": {
      "text/plain": [
       "array([1, 1, 1, 1, 1], dtype=int64)"
      ]
     },
     "execution_count": 27,
     "metadata": {},
     "output_type": "execute_result"
    }
   ],
   "source": [
    "#show the last 5 rows of the y array (which holds the classifier -1 or 1)\n",
    "y[-5:]  "
   ]
  },
  {
   "cell_type": "markdown",
   "id": "39a5a23e",
   "metadata": {},
   "source": [
    "# 8 - Shuffle Dataset and Create Training and Test Subsets\n"
   ]
  },
  {
   "cell_type": "code",
   "execution_count": 28,
   "id": "61e9d248",
   "metadata": {},
   "outputs": [
    {
     "data": {
      "text/plain": [
       "array([   0,    1,    2, ..., 2197, 2198, 2199])"
      ]
     },
     "execution_count": 28,
     "metadata": {},
     "output_type": "execute_result"
    }
   ],
   "source": [
    "# count the size of the dataset (number of rows)\n",
    "\n",
    "indices = np.arange(y.shape[0])\n",
    "indices"
   ]
  },
  {
   "cell_type": "code",
   "execution_count": 29,
   "id": "38322971",
   "metadata": {},
   "outputs": [
    {
     "data": {
      "text/plain": [
       "array([ 809,  403,  304, ..., 1766, 1122, 1346])"
      ]
     },
     "execution_count": 29,
     "metadata": {},
     "output_type": "execute_result"
    }
   ],
   "source": [
    "# randomize the dataset before splitting\n",
    "# this is a seeded deterministic shuffle \n",
    "# in this example, a seed value of 123 is given, which makes the output deterministic, so the experiment is reproducible\n",
    "# any seed value can be chosen, but it should remain consistent so the results can be reproduced\n",
    "\n",
    "rnd = np.random.RandomState(123)\n",
    "shuffled_indices = rnd.permutation(indices)\n",
    "shuffled_indices"
   ]
  },
  {
   "cell_type": "code",
   "execution_count": 30,
   "id": "dd00b8ee",
   "metadata": {},
   "outputs": [],
   "source": [
    "# before we shuffle the data, downsample the \"abnormal\" or \"positive\" class down, \n",
    "# by splitting the 200 lines to 160/40 (aka 80%/20%)\n",
    "\n",
    "# shuffle within the positive and negative classes to avoid bias\n",
    "# create a new array that only includes the first 200 rows\n",
    "X_pos = X[:200]  #implies from beginning up to (but not including) 200\n",
    "X_neg = X[200:]  #implies from 200 to end\n",
    "y_pos = y[:200]  #contains the \"ClassLabel\" feature which will be -1 for negative class, +1 for positive class\n",
    "y_neg = y[200:]  #contains the \"ClassLabel\" feature which will be -1 for negative class, +1 for positive class\n",
    "\n",
    "# or use this shortcut, more readable version of the above\n",
    "#X_pos,y_pos = X[:200],y[:200]\n",
    "#X_neg,y_neg = X[200:],y[200:]\n",
    "\n",
    "\n",
    "# shuffle the positive indices (this is the \"anomaly\" data)\n",
    "indices_pos = np.arange(X_pos.shape[0])  # or use the len function to get the number of elements in the array len(X_pos)\n",
    "pos_shuffled_indices = rnd.permutation(indices_pos)\n",
    "X_pos_shuffled = X_pos[pos_shuffled_indices]\n",
    "y_pos_shuffled = y_pos[pos_shuffled_indices]\n",
    "\n",
    "\n",
    "# shuffle the negative indices (this is the \"normal\" data)\n",
    "indices_neg = np.arange(X_neg.shape[0])\n",
    "neg_shuffled_indices = rnd.permutation(indices_neg)\n",
    "X_neg_shuffled = X_neg[neg_shuffled_indices]\n",
    "y_neg_shuffled = y_neg[neg_shuffled_indices]\n",
    "\n",
    "\n",
    "# split the data between test and train\n",
    "# grab the first 40 lines (20%) of the abormal (positive) class for test data \n",
    "X_test_pos, y_test_pos = X_pos_shuffled[:40],y_pos_shuffled[:40] \n",
    "\n",
    "# grab the last 160 lines (80%) of the abnormal (positive) class for training data\n",
    "X_train_pos, y_train_pos = X_pos_shuffled[40:],y_pos_shuffled[40:]  #only the starting row is shown, last row (200) is implied\n",
    "\n",
    "if (dataset_type == \"balanced\"):\n",
    "    # we want the abnormal/normal classes to be balanced, so grab the same amount of data (160 lines) as the previous step\n",
    "    # rows 0 to 160 will be the first 160 lines of the \"normal\" or negative class\n",
    "    # first value is included, last value is not included :160 means 0 is implied, 160 is *not* included\n",
    "    X_train_neg, y_train_neg = X_neg_shuffled[:160],y_neg_shuffled[:160]\n",
    "    # the remaining lines are for test\n",
    "    X_test_neg, y_test_neg = X_neg_shuffled[160:],y_neg_shuffled[160:] \n",
    "elif (dataset_type == \"unbalanced\"):\n",
    "    # the source dataset is unbalanced, with 10x as much data from the negative class\n",
    "    # This option will split the 2000 rows of negative class data into 400 rows (20%) test and 1600 rows (80%) train\n",
    "    X_train_neg, y_train_neg = X_neg_shuffled[:1600],y_neg_shuffled[:1600]\n",
    "    X_test_neg,  y_test_neg  = X_neg_shuffled[1600:],y_neg_shuffled[1600:]     \n",
    "else:\n",
    "    print (\"ERROR: Please set dataset_type=balanced|unbalanced at the beginning of this jupyter notebook\")\n",
    "\n",
    "\n",
    "\n",
    "\n"
   ]
  },
  {
   "cell_type": "code",
   "execution_count": 31,
   "id": "d0a81c56",
   "metadata": {},
   "outputs": [
    {
     "name": "stdout",
     "output_type": "stream",
     "text": [
      "This model is using a balanced dataset, so the amount of training data will be the same for the negative and postive classes.\n",
      "\n",
      "Total size of negative/normal   class rows,columns: (2000, 27)\n",
      "Total size of positive/abnormal class rows,columns: (200, 27)\n",
      "\n",
      "Test data:\n",
      "Rows,columns of X_test_pos:  (40, 27)\n",
      "Rows,columns of X_test_neg:  (1840, 27)\n",
      "\n",
      "Training data:\n",
      "Rows,columns of X_train_pos: (160, 27)\n",
      "Rows,columns of X_train_neg: (160, 27)\n",
      "\n",
      "Class labels with single column:\n",
      "Rows of y_test_pos:  (40,)\n",
      "Rows of y_test_neg:  (1840,)\n",
      "Rows of y_train_pos: (160,)\n",
      "Rows of y_train_neg: (160,)\n"
     ]
    }
   ],
   "source": [
    "# sanity check to verify the sizes of the test and train data\n",
    "if (dataset_type == \"balanced\"):   \n",
    "    print (\"This model is using a balanced dataset, so the amount of training data will be the same for the negative and postive classes.\")\n",
    "if (dataset_type == \"unbalanced\"):\n",
    "    print (\"This model is using an unbalanced dataset, so the amount of training data will be much larger for the negative class.\")\n",
    "\n",
    "print (\"\")    \n",
    "print (\"Total size of negative/normal   class rows,columns:\", X_neg.shape)\n",
    "print (\"Total size of positive/abnormal class rows,columns:\", X_pos.shape)\n",
    "print (\"\")\n",
    "print (\"Test data:\")\n",
    "print(\"Rows,columns of X_test_pos: \", X_test_pos.shape)\n",
    "print(\"Rows,columns of X_test_neg: \", X_test_neg.shape)\n",
    "print (\"\")\n",
    "print (\"Training data:\")\n",
    "print(\"Rows,columns of X_train_pos:\", X_train_pos.shape)\n",
    "print(\"Rows,columns of X_train_neg:\", X_train_neg.shape)\n",
    "print (\"\")\n",
    "print (\"Class labels with single column:\")\n",
    "print(\"Rows of y_test_pos: \", y_test_pos.shape)\n",
    "print(\"Rows of y_test_neg: \", y_test_neg.shape)\n",
    "print(\"Rows of y_train_pos:\", y_train_pos.shape)\n",
    "print(\"Rows of y_train_neg:\", y_train_neg.shape)"
   ]
  },
  {
   "cell_type": "code",
   "execution_count": 32,
   "id": "3b1cec67",
   "metadata": {},
   "outputs": [
    {
     "name": "stdout",
     "output_type": "stream",
     "text": [
      "y testing data for positive/abnormal class, should be all -1:\n",
      "[-1 -1 -1 -1 -1 -1 -1 -1 -1 -1 -1 -1 -1 -1 -1 -1 -1 -1 -1 -1 -1 -1 -1 -1\n",
      " -1 -1 -1 -1 -1 -1 -1 -1 -1 -1 -1 -1 -1 -1 -1 -1]\n",
      "\n",
      "y testing data for negative/normal class, should be all +1:\n",
      "[1 1 1 ... 1 1 1]\n",
      "\n",
      "y training data for positive/abnormal class, should be all -1:\n",
      "[-1 -1 -1 -1 -1 -1 -1 -1 -1 -1 -1 -1 -1 -1 -1 -1 -1 -1 -1 -1 -1 -1 -1 -1\n",
      " -1 -1 -1 -1 -1 -1 -1 -1 -1 -1 -1 -1 -1 -1 -1 -1 -1 -1 -1 -1 -1 -1 -1 -1\n",
      " -1 -1 -1 -1 -1 -1 -1 -1 -1 -1 -1 -1 -1 -1 -1 -1 -1 -1 -1 -1 -1 -1 -1 -1\n",
      " -1 -1 -1 -1 -1 -1 -1 -1 -1 -1 -1 -1 -1 -1 -1 -1 -1 -1 -1 -1 -1 -1 -1 -1\n",
      " -1 -1 -1 -1 -1 -1 -1 -1 -1 -1 -1 -1 -1 -1 -1 -1 -1 -1 -1 -1 -1 -1 -1 -1\n",
      " -1 -1 -1 -1 -1 -1 -1 -1 -1 -1 -1 -1 -1 -1 -1 -1 -1 -1 -1 -1 -1 -1 -1 -1\n",
      " -1 -1 -1 -1 -1 -1 -1 -1 -1 -1 -1 -1 -1 -1 -1 -1]\n",
      "\n",
      "y training data for negative/normal class, should be all +1:\n",
      "[1 1 1 1 1 1 1 1 1 1 1 1 1 1 1 1 1 1 1 1 1 1 1 1 1 1 1 1 1 1 1 1 1 1 1 1 1\n",
      " 1 1 1 1 1 1 1 1 1 1 1 1 1 1 1 1 1 1 1 1 1 1 1 1 1 1 1 1 1 1 1 1 1 1 1 1 1\n",
      " 1 1 1 1 1 1 1 1 1 1 1 1 1 1 1 1 1 1 1 1 1 1 1 1 1 1 1 1 1 1 1 1 1 1 1 1 1\n",
      " 1 1 1 1 1 1 1 1 1 1 1 1 1 1 1 1 1 1 1 1 1 1 1 1 1 1 1 1 1 1 1 1 1 1 1 1 1\n",
      " 1 1 1 1 1 1 1 1 1 1 1 1]\n"
     ]
    }
   ],
   "source": [
    "# sanity check to visualize the labels, make sure the classLabel boundaries are correct\n",
    "# this confirms that we split up the data correcly into training data and test data in the previous step\n",
    "\n",
    "print (\"y testing data for positive/abnormal class, should be all -1:\")\n",
    "print (y_test_pos)   # should output all 1\n",
    "print (\"\")\n",
    "print (\"y testing data for negative/normal class, should be all +1:\")\n",
    "print (y_test_neg)   # should output all 0\n",
    "print (\"\")\n",
    "print (\"y training data for positive/abnormal class, should be all -1:\")\n",
    "print (y_train_pos)  # should output all 1\n",
    "print (\"\")\n",
    "print (\"y training data for negative/normal class, should be all +1:\")\n",
    "print (y_train_neg)  # should output all 0"
   ]
  },
  {
   "cell_type": "code",
   "execution_count": 33,
   "id": "f77552c2",
   "metadata": {},
   "outputs": [],
   "source": [
    "# create the training set and test set\n",
    "\n",
    "#concatentate the 2 python arrays of positive and negative classes into a single array that will be used to train the model\n",
    "X_train = np.concatenate((X_train_pos,X_train_neg))\n",
    "y_train = np.concatenate((y_train_pos,y_train_neg))\n",
    "\n",
    "X_test = np.concatenate((X_test_pos,X_test_neg))\n",
    "y_test = np.concatenate((y_test_pos,y_test_neg))"
   ]
  },
  {
   "cell_type": "code",
   "execution_count": 34,
   "id": "9d16d1b4",
   "metadata": {},
   "outputs": [
    {
     "name": "stdout",
     "output_type": "stream",
     "text": [
      "\n",
      " X_train data:\n",
      " [[0.         0.         0.         ... 0.232021   0.         0.45454545]\n",
      " [0.         0.         0.         ... 0.15170604 0.05882353 0.36363636]\n",
      " [0.         0.         0.         ... 0.41049869 0.05882353 0.18181818]\n",
      " ...\n",
      " [0.         0.         0.         ... 0.25301837 0.         0.        ]\n",
      " [0.59803565 0.54128774 0.55347399 ... 0.26771654 0.         0.45454545]\n",
      " [0.55165515 0.58475809 0.57675518 ... 0.232021   0.         0.18181818]]\n",
      "\n",
      " y_train data:\n",
      " [-1 -1 -1 -1 -1 -1 -1 -1 -1 -1 -1 -1 -1 -1 -1 -1 -1 -1 -1 -1 -1 -1 -1 -1\n",
      " -1 -1 -1 -1 -1 -1 -1 -1 -1 -1 -1 -1 -1 -1 -1 -1 -1 -1 -1 -1 -1 -1 -1 -1\n",
      " -1 -1 -1 -1 -1 -1 -1 -1 -1 -1 -1 -1 -1 -1 -1 -1 -1 -1 -1 -1 -1 -1 -1 -1\n",
      " -1 -1 -1 -1 -1 -1 -1 -1 -1 -1 -1 -1 -1 -1 -1 -1 -1 -1 -1 -1 -1 -1 -1 -1\n",
      " -1 -1 -1 -1 -1 -1 -1 -1 -1 -1 -1 -1 -1 -1 -1 -1 -1 -1 -1 -1 -1 -1 -1 -1\n",
      " -1 -1 -1 -1 -1 -1 -1 -1 -1 -1 -1 -1 -1 -1 -1 -1 -1 -1 -1 -1 -1 -1 -1 -1\n",
      " -1 -1 -1 -1 -1 -1 -1 -1 -1 -1 -1 -1 -1 -1 -1 -1  1  1  1  1  1  1  1  1\n",
      "  1  1  1  1  1  1  1  1  1  1  1  1  1  1  1  1  1  1  1  1  1  1  1  1\n",
      "  1  1  1  1  1  1  1  1  1  1  1  1  1  1  1  1  1  1  1  1  1  1  1  1\n",
      "  1  1  1  1  1  1  1  1  1  1  1  1  1  1  1  1  1  1  1  1  1  1  1  1\n",
      "  1  1  1  1  1  1  1  1  1  1  1  1  1  1  1  1  1  1  1  1  1  1  1  1\n",
      "  1  1  1  1  1  1  1  1  1  1  1  1  1  1  1  1  1  1  1  1  1  1  1  1\n",
      "  1  1  1  1  1  1  1  1  1  1  1  1  1  1  1  1  1  1  1  1  1  1  1  1\n",
      "  1  1  1  1  1  1  1  1]\n",
      "\n",
      " X_test data:\n",
      " [[0.         0.         0.         ... 0.34225722 0.         0.36363636]\n",
      " [0.         0.         0.         ... 0.2855643  0.         0.36363636]\n",
      " [0.         0.         0.         ... 0.33595801 0.         0.18181818]\n",
      " ...\n",
      " [0.49036013 0.43288469 0.45416515 ... 0.30341207 0.         0.45454545]\n",
      " [0.84849036 0.88359403 0.89687159 ... 0.23779528 0.         0.54545455]\n",
      " [0.18061113 0.18879593 0.18897781 ... 0.21994751 0.         0.18181818]]\n",
      "\n",
      " y_test data:\n",
      " [-1 -1 -1 ...  1  1  1]\n"
     ]
    }
   ],
   "source": [
    "# sanity check, look at the \"train\" and \"test\" data\n",
    "print (\"\\n X_train data:\\n\", X_train)\n",
    "print (\"\\n y_train data:\\n\", y_train)\n",
    "print (\"\\n X_test data:\\n\" , X_test)\n",
    "print (\"\\n y_test data:\\n\" , y_test)"
   ]
  },
  {
   "cell_type": "markdown",
   "id": "c2940ee0",
   "metadata": {},
   "source": [
    "# 9 - perform cross-validation (10-fold)"
   ]
  },
  {
   "cell_type": "code",
   "execution_count": 35,
   "id": "b00b10cf",
   "metadata": {},
   "outputs": [],
   "source": [
    "# create a custom class based on BaseEstimator\n",
    "# We have to do this because the unsupervised KNN model does not include a \"predict\" function, \n",
    "# which will be required when we want to calculate accuracy scores.\n",
    "\n",
    "import sklearn\n",
    "#define a custom class based on the BaseEstimator class\n",
    "#based on paper at https://doi.org/10.1109/TKDE.2018.2806975\n",
    "class NearestNeighborPredict(sklearn.base.BaseEstimator):   \n",
    "    def __init__(self,n_neighbors,threshold):     \n",
    "        self.clf = NearestNeighbors(n_neighbors=n_neighbors)  \n",
    "        self.n_neighbors = n_neighbors\n",
    "        self.threshold = threshold\n",
    "\n",
    "    def set_params(self, **params):\n",
    "        self.n_neighbors = params[\"n_neighbors\"]\n",
    "        self.threshold = params[\"threshold\"]\n",
    "        #re-initialize the classifier because we changed the values\n",
    "        self.clf = NearestNeighbors(n_neighbors=self.n_neighbors)  \n",
    "        return self\n",
    "        \n",
    "    def get_params(self, deep = True):\n",
    "        return {'n_neighbors':self.n_neighbors, 'threshold':self.threshold}\n",
    "        \n",
    "    def predict(self, X):\n",
    "        distances, indices = self.clf.kneighbors(X)\n",
    "        #print (\"DEBUG: indices.shape is:\",indices.shape)\n",
    "        DJ = distances.mean(axis=1)  #average of distances from test sample to nearest neighbor\n",
    "        #print (\"DEBUG: DJ.shape is:\",DJ.shape)\n",
    "        DK = np.zeros(len(X))  #initialize array with a zero value for every example\n",
    "        for j in range(self.n_neighbors):\n",
    "            X_nbrs = self.X_train[indices[:,j]]\n",
    "            #print (\"DEBUG: X_nbrs.shape is:\",X_nbrs.shape)\n",
    "            distances, indices = self.clf.kneighbors(X_nbrs)  #distances and indexes of neighbors to neighbors\n",
    "            DKj = distances.mean(axis=1)\n",
    "            DK += DKj\n",
    "        return (DJ < self.threshold * DK) * 2 - 1\n",
    "    \n",
    "    def fit(self, X, y, **kwargs):\n",
    "        self.clf.fit(X)  #unsupervised, so only X. y is not used\n",
    "        self.X_train = X\n",
    "        #print (\"DEBUG: self.threshold,self.n_neighbors:\", self.threshold,self.n_neighbors)"
   ]
  },
  {
   "cell_type": "code",
   "execution_count": 36,
   "id": "975c8535",
   "metadata": {},
   "outputs": [],
   "source": [
    "# sklearn has a cross-validation function that we will use here\n",
    "# this function will combine your datasets and perform cross-validation\n",
    "from sklearn.model_selection import cross_val_score\n",
    "\n",
    "\n",
    "if (modeltype == \"TwoClassKNN\"):\n",
    "    #use KNN, start with sklearn default n_neighbors=2, will tune later\n",
    "    # clf is short for classifier, which refers to the algorithm being used KNN, SVM, etc\n",
    "    clf = KNeighborsClassifier(n_neighbors=2)  \n",
    "elif (modeltype == \"TwoClassSVM\"):\n",
    "    # the random_state is a seed value that we use for reproducability\n",
    "    #use SVM algorithm, start with default C=1, will tune later\n",
    "    clf = svm.SVC(kernel='linear', C=1, random_state=42) \n",
    "elif (modeltype == \"OneClassSVM\"):\n",
    "    # the random_state is a seed value that we use for reproducability\n",
    "    #use OneClassSVM algorithm, start with default kernel=linear, will try to tune later\n",
    "    clf = OneClassSVM(kernel='linear') \n",
    "elif (modeltype == \"OneClassKNN\"):\n",
    "    # create a custom scoring function because OneClassKNN does not have a \"predict\" attribute\n",
    "    clf = NearestNeighborPredict(n_neighbors=2,threshold=1)\n",
    "else: \n",
    "   print (\"ERROR: Please set modeltype variable at the top of this notebook to the desired learning model\")\n",
    "   \n",
    "    \n",
    "    \n",
    "\n",
    "\n"
   ]
  },
  {
   "cell_type": "code",
   "execution_count": null,
   "id": "5a10bc60",
   "metadata": {},
   "outputs": [],
   "source": []
  },
  {
   "cell_type": "code",
   "execution_count": 37,
   "id": "97d82305",
   "metadata": {},
   "outputs": [],
   "source": [
    "# this where all the training and validation happens\n",
    "# cv=number of cross-validations you want to do\n",
    "# this folds the data cv times, then returns the accuracy of each fold, showing average performance of cv splits\n",
    "  \n",
    "if (modeltype == \"TwoClassKNN\" or modeltype == \"TwoClassSVM\"):    #supervised learning models\n",
    "    scores = cross_val_score(clf, X_train, y_train, cv=10)\n",
    "elif (modeltype == \"OneClassSVM\" or modeltype == \"OneClassKNN\"):  #unsupervised learning models\n",
    "    #OneClassKNN does not have a predict function, \n",
    "    # which is required by cross_val_score, so we manually defined earlier\n",
    "    # needs scoring attribute to be defined\n",
    "    scores = cross_val_score(clf, X_train, y_train, scoring='accuracy', cv=10) \n",
    "    \n",
    "    \n"
   ]
  },
  {
   "cell_type": "code",
   "execution_count": null,
   "id": "18d7f629",
   "metadata": {},
   "outputs": [],
   "source": []
  },
  {
   "cell_type": "markdown",
   "id": "6d58de87",
   "metadata": {},
   "source": [
    "# 10 - check initial algorithm accuracy before hyperparameter tuning"
   ]
  },
  {
   "cell_type": "code",
   "execution_count": 38,
   "id": "86749a0a",
   "metadata": {},
   "outputs": [
    {
     "name": "stdout",
     "output_type": "stream",
     "text": [
      "Scores for each cross-validation fold for OneClassKNN model before hyperparameter optimization:\n"
     ]
    },
    {
     "data": {
      "text/plain": [
       "array([0.875  , 0.84375, 0.8125 , 0.8125 , 0.90625, 0.28125, 0.21875,\n",
       "       0.1875 , 0.21875, 0.3125 ])"
      ]
     },
     "execution_count": 38,
     "metadata": {},
     "output_type": "execute_result"
    }
   ],
   "source": [
    "# print the scores for every cross-validation fold (cv=10)\n",
    "# this will output an array containing the score for each fold\n",
    "# the default output of the cross validation function is accuracy, \n",
    "# so the output of this command will show the accuracy of each fold\n",
    "\n",
    "print (\"Scores for each cross-validation fold for\",modeltype,\"model before hyperparameter optimization:\")\n",
    "scores\n"
   ]
  },
  {
   "cell_type": "code",
   "execution_count": 39,
   "id": "a740b86f",
   "metadata": {},
   "outputs": [
    {
     "name": "stdout",
     "output_type": "stream",
     "text": [
      "Mean average score using OneClassKNN model before hyperparameter optimization: 0.546875\n"
     ]
    }
   ],
   "source": [
    "# mean average of the scores of each cross-validation fold\n",
    "scores_average = np.mean(scores)\n",
    "print (\"Mean average score using\", modeltype, \"model before hyperparameter optimization:\", scores_average)"
   ]
  },
  {
   "cell_type": "code",
   "execution_count": 40,
   "id": "098c11cd",
   "metadata": {},
   "outputs": [
    {
     "name": "stdout",
     "output_type": "stream",
     "text": [
      "Median average score using OneClassKNN model before hyperparameter optimization: 0.5625\n"
     ]
    }
   ],
   "source": [
    "# median average of the scores of each cross-validation fold\n",
    "scores_median = np.median(scores)\n",
    "print (\"Median average score using\", modeltype, \"model before hyperparameter optimization:\", scores_median)"
   ]
  },
  {
   "cell_type": "code",
   "execution_count": 41,
   "id": "81d71367",
   "metadata": {},
   "outputs": [
    {
     "name": "stdout",
     "output_type": "stream",
     "text": [
      "Standard deviation across scores using OneClassKNN model before hyperparameter optimization: 0.3059469163515135\n"
     ]
    }
   ],
   "source": [
    "# standard deviation of the scores of each cross-validation fold\n",
    "scores_stddev = np.std(scores)\n",
    "print (\"Standard deviation across scores using\", modeltype, \"model before hyperparameter optimization:\", scores_stddev)"
   ]
  },
  {
   "cell_type": "code",
   "execution_count": 42,
   "id": "fabdfb42",
   "metadata": {},
   "outputs": [],
   "source": [
    "# train the function with the entire training set (without any splitting)\n",
    "# the .fit function finds the parameter of the model that best fits the dataset\n",
    "# parameters are the values found during the .fit, hyperparameters are what we refine during cross validation\n",
    "# this step trains the model \n",
    "clf.fit (X_train,y_train)"
   ]
  },
  {
   "cell_type": "code",
   "execution_count": 43,
   "id": "94ebc900",
   "metadata": {},
   "outputs": [
    {
     "name": "stdout",
     "output_type": "stream",
     "text": [
      "Accuracy for OneClassKNN before optimization is: 0.3473404255319149\n"
     ]
    }
   ],
   "source": [
    "# evaluate on the test set using the score function\n",
    "# this returns a really high accuracy value, because this particular dataset is \"unbalanced\", \n",
    "# because there is way more of the negative class than the positive class.\n",
    "# In other words, because this dataset is unbalanced, this accuracy result is misleading\n",
    "# HINT: in this example, the \"test\" dataset is unbalance, the \"train\" data is balanced\n",
    "\n",
    "# this is the score of the test data before tuning\n",
    "if (modeltype == \"TwoClassKNN\" or modeltype == \"TwoClassSVM\"):   #for supervised learning models\n",
    "    clf.score (X_test,y_test)\n",
    "elif (modeltype == \"OneClassSVM\" or modeltype == \"OneClassKNN\"):  #unsupervised learning models use predict instead of score\n",
    "    print (\"Accuracy for\", modeltype , \"before optimization is:\",(clf.predict (X_test) == y_test).mean())\n",
    "    \n"
   ]
  },
  {
   "cell_type": "markdown",
   "id": "5f7ab7b3",
   "metadata": {},
   "source": [
    "# 11 - find optimal hyperparameters"
   ]
  },
  {
   "cell_type": "code",
   "execution_count": 44,
   "id": "3b50ddf1",
   "metadata": {},
   "outputs": [],
   "source": [
    "# perform a GridSearchCV function to find the optimal hyperparameter (K in KNN or C for SVM)\n",
    "\n",
    "# define the grid we are going to search\n",
    "if (modeltype == \"TwoClassKNN\"):\n",
    "    parameters = {\"n_neighbors\":range(1,50)}   #find an optimal value for n_neighbors in the range of 1 to 50\n",
    "    knn =  KNeighborsClassifier()  #instance of base classifier we want to search\n",
    "    clf = GridSearchCV(knn, parameters)\n",
    "elif (modeltype == \"TwoClassSVM\"):\n",
    "    parameters = {'kernel':('linear', 'rbf'), 'C':range(1,11)}  #last element in range is not used, so this implies 1-10\n",
    "    # combine the classifer model with the GridSearchCV classifier to calculate accuracy for all possibilities\n",
    "    svc = svm.SVC()  #instance of base classifier we want to search\n",
    "    clf = GridSearchCV(svc, parameters)\n",
    "elif (modeltype == \"OneClassSVM\"):\n",
    "    #parameters = {'kernel':('linear', 'poly', 'rbf', 'sigmoid', 'precomputed')}  \n",
    "    parameters = {'kernel':('linear', 'poly', 'rbf', 'sigmoid')}  \n",
    "    onesvm = OneClassSVM()\n",
    "    clf = GridSearchCV(onesvm, parameters, scoring='accuracy')\n",
    "elif (modeltype == \"OneClassKNN\"):\n",
    "    parameters = {\"n_neighbors\":range(1,10),\"threshold\":np.arange(0,10,0.1)}   #start, end, step size\n",
    "    knn = NearestNeighborPredict(n_neighbors=2,threshold=1)  #use the custom class we defined earlier\n",
    "    clf = GridSearchCV(knn, parameters,scoring='accuracy')\n",
    "else:\n",
    "   print (\"ERROR: Please set modeltype variable at the top of this notebook to the desired learning model\")\n",
    "\n",
    "\n",
    "    "
   ]
  },
  {
   "cell_type": "code",
   "execution_count": null,
   "id": "23e8ff62",
   "metadata": {},
   "outputs": [],
   "source": []
  },
  {
   "cell_type": "code",
   "execution_count": 45,
   "id": "3031dfb3",
   "metadata": {},
   "outputs": [
    {
     "name": "stdout",
     "output_type": "stream",
     "text": [
      "Performing GridSearchCV to find optimal hyperparameter within this range:\n"
     ]
    }
   ],
   "source": [
    "# fit the model against the train data\n",
    "print (\"Performing GridSearchCV to find optimal hyperparameter within this range:\")\n",
    "if (modeltype == \"TwoClassKNN\" or modeltype == \"TwoClassSVM\"):\n",
    "    clf.fit (X_train,y_train)\n",
    "elif (modeltype == \"OneClassSVM\" or modeltype == \"OneClassKNN\"):\n",
    "    clf.fit (X_train,y_train)   \n"
   ]
  },
  {
   "cell_type": "code",
   "execution_count": 46,
   "id": "a5e01c1d",
   "metadata": {},
   "outputs": [
    {
     "name": "stdout",
     "output_type": "stream",
     "text": [
      "best_estimator for OneClassKNN\n",
      "{'algorithm': 'auto', 'leaf_size': 30, 'metric': 'minkowski', 'metric_params': None, 'n_jobs': None, 'n_neighbors': 4, 'p': 2, 'radius': 1.0}\n"
     ]
    }
   ],
   "source": [
    "# for OneClassKNN, show the classifier inside the custom class\n",
    "if (modeltype == \"OneClassKNN\"):\n",
    "    clf.best_estimator_.clf.get_params()\n",
    "    print (\"best_estimator for\",modeltype)\n",
    "    print (clf.best_estimator_.clf.get_params())"
   ]
  },
  {
   "cell_type": "code",
   "execution_count": null,
   "id": "d704f5ff",
   "metadata": {},
   "outputs": [],
   "source": []
  },
  {
   "cell_type": "code",
   "execution_count": 47,
   "id": "3eb25887",
   "metadata": {},
   "outputs": [
    {
     "name": "stdout",
     "output_type": "stream",
     "text": [
      "Using OneClassKNN algorithm, optimal parameters shown below:\n",
      " {'n_neighbors': 4, 'threshold': 0.6000000000000001}\n"
     ]
    }
   ],
   "source": [
    "# figure out the optimal hyperparameters\n",
    "\n",
    "if (modeltype == \"TwoClassKNN\"):\n",
    "    # for KNN, we are most interested in the value of n_neighbors and metric\n",
    "    # the output of this command will show all parameters used by the algorithm\n",
    "    print (\"Using 2-class KNN algorithm, parameters shown below:\\n\", clf.get_params())\n",
    "elif (modeltype == \"TwoClassSVM\"):\n",
    "    # for SVM, we are most interested in the value of param_C and param_kernel\n",
    "    # this output shows all the possibilities for C (coefficient)\n",
    "    print (\"\\nUsing 2-class SVM algorithm, parameters shown below:\\n\")\n",
    "    print (\"\\nAll keys from clf.cv_results_ \\n\" , sorted(clf.cv_results_.keys()))\n",
    "    print (\"\\nparam_C \\n\", clf.cv_results_[\"param_C\"])\n",
    "    print (\"\\nparam_kernel \\n\", clf.cv_results_[\"param_kernel\"])\n",
    "    print (\"\\nparams \\n\", clf.cv_results_[\"params\"])\n",
    "elif (modeltype == \"OneClassSVM\"):\n",
    "    #print (\"Using OneClassSVM algorithm, parameters shown below:\\n\", clf.get_params())  #before optimization\n",
    "    print (\"Using OneClassSVMN algorithm, optimal parameters shown below:\\n\", clf.best_estimator_.get_params()) #after optimize\n",
    "elif (modeltype == \"OneClassKNN\"):\n",
    "    print (\"Using OneClassKNN algorithm, optimal parameters shown below:\\n\", clf.best_estimator_.get_params()) #after optimize\n",
    "else:\n",
    "    print (\"ERROR: Please set modeltype variable at the top of this notebook to OneClassKNN or OneClassSVM or TwoClassSVM or TwoClassKNN\")\n",
    "\n",
    "\n"
   ]
  },
  {
   "cell_type": "code",
   "execution_count": 48,
   "id": "51aecd3f",
   "metadata": {},
   "outputs": [
    {
     "name": "stdout",
     "output_type": "stream",
     "text": [
      "all parameters for classifier using model OneClassKNN\n"
     ]
    },
    {
     "data": {
      "text/plain": [
       "{'cv': None,\n",
       " 'error_score': nan,\n",
       " 'estimator__n_neighbors': 2,\n",
       " 'estimator__threshold': 1,\n",
       " 'estimator': NearestNeighborPredict(n_neighbors=2, threshold=1),\n",
       " 'n_jobs': None,\n",
       " 'param_grid': {'n_neighbors': range(1, 10),\n",
       "  'threshold': array([0. , 0.1, 0.2, 0.3, 0.4, 0.5, 0.6, 0.7, 0.8, 0.9, 1. , 1.1, 1.2,\n",
       "         1.3, 1.4, 1.5, 1.6, 1.7, 1.8, 1.9, 2. , 2.1, 2.2, 2.3, 2.4, 2.5,\n",
       "         2.6, 2.7, 2.8, 2.9, 3. , 3.1, 3.2, 3.3, 3.4, 3.5, 3.6, 3.7, 3.8,\n",
       "         3.9, 4. , 4.1, 4.2, 4.3, 4.4, 4.5, 4.6, 4.7, 4.8, 4.9, 5. , 5.1,\n",
       "         5.2, 5.3, 5.4, 5.5, 5.6, 5.7, 5.8, 5.9, 6. , 6.1, 6.2, 6.3, 6.4,\n",
       "         6.5, 6.6, 6.7, 6.8, 6.9, 7. , 7.1, 7.2, 7.3, 7.4, 7.5, 7.6, 7.7,\n",
       "         7.8, 7.9, 8. , 8.1, 8.2, 8.3, 8.4, 8.5, 8.6, 8.7, 8.8, 8.9, 9. ,\n",
       "         9.1, 9.2, 9.3, 9.4, 9.5, 9.6, 9.7, 9.8, 9.9])},\n",
       " 'pre_dispatch': '2*n_jobs',\n",
       " 'refit': True,\n",
       " 'return_train_score': False,\n",
       " 'scoring': 'accuracy',\n",
       " 'verbose': 0}"
      ]
     },
     "execution_count": 48,
     "metadata": {},
     "output_type": "execute_result"
    }
   ],
   "source": [
    "# show all parameters of the classifier\n",
    "print (\"all parameters for classifier using model\",modeltype)\n",
    "clf.get_params()\n"
   ]
  },
  {
   "cell_type": "markdown",
   "id": "d70060fa",
   "metadata": {},
   "source": [
    "# 12 - recalculate scores after hyperparameter tuning to see if the scores improve"
   ]
  },
  {
   "cell_type": "code",
   "execution_count": 49,
   "id": "f98813d0",
   "metadata": {},
   "outputs": [
    {
     "data": {
      "text/plain": [
       "array([0.46875, 0.4375 , 0.5625 , 0.59375, 0.5625 , 1.     , 1.     ,\n",
       "       0.96875, 1.     , 1.     ])"
      ]
     },
     "execution_count": 49,
     "metadata": {},
     "output_type": "execute_result"
    }
   ],
   "source": [
    "# recalculate the scores after the hyperparameter tuning to see if the scores improve\n",
    "# this will return the ideal (or optimized) classifier\n",
    "\n",
    "scores = cross_val_score(clf.best_estimator_, X_train, y_train, scoring='accuracy', cv=10)\n",
    "scores"
   ]
  },
  {
   "cell_type": "markdown",
   "id": "fa69aec0",
   "metadata": {},
   "source": [
    "# 13 - average the scores of each cross-validation fold\n"
   ]
  },
  {
   "cell_type": "code",
   "execution_count": 50,
   "id": "2418f235",
   "metadata": {},
   "outputs": [
    {
     "name": "stdout",
     "output_type": "stream",
     "text": [
      "Mean average score using OneClassKNN model after hyperparameter tuning: 0.759375\n"
     ]
    }
   ],
   "source": [
    "scores_average = np.mean(scores)\n",
    "print (\"Mean average score using\", modeltype, \"model after hyperparameter tuning:\", scores_average)"
   ]
  },
  {
   "cell_type": "code",
   "execution_count": 51,
   "id": "53355961",
   "metadata": {},
   "outputs": [
    {
     "name": "stdout",
     "output_type": "stream",
     "text": [
      "Median average score using OneClassKNN model before hyperparameter optimization: 0.78125\n"
     ]
    }
   ],
   "source": [
    "# median average of the scores of each cross-validation fold\n",
    "scores_median = np.median(scores)\n",
    "print (\"Median average score using\", modeltype, \"model before hyperparameter optimization:\", scores_median)"
   ]
  },
  {
   "cell_type": "code",
   "execution_count": 52,
   "id": "c1c3c2fb",
   "metadata": {},
   "outputs": [
    {
     "name": "stdout",
     "output_type": "stream",
     "text": [
      "Standard deviation of scores using OneClassKNN model before hyperparameter optimization: 0.23842336950265594\n"
     ]
    }
   ],
   "source": [
    "# standard deviation of the scores of each cross-validation fold\n",
    "scores_stddev = np.std(scores)\n",
    "print (\"Standard deviation of scores using\", modeltype, \"model before hyperparameter optimization:\", scores_stddev)"
   ]
  },
  {
   "cell_type": "code",
   "execution_count": 53,
   "id": "2c0a35d5",
   "metadata": {},
   "outputs": [
    {
     "name": "stdout",
     "output_type": "stream",
     "text": [
      "Fit the model with optimized hyperparameters:\n",
      " None\n"
     ]
    }
   ],
   "source": [
    "# perform the final validation\n",
    "\n",
    "# we have already done this section in a previous step, not needed here\n",
    "# train the function with the entire training set (without any splitting) using the default hyperparameters\n",
    "#clf.fit (X_train,y_train)                  \n",
    "#print (\"\\nFit the model with default hyperparameters:\\n\", clf.fit (X_train,y_train))\n",
    "\n",
    "# train the function with the entire training set (without any splitting) using the optimized hyperparameters\n",
    "clf.best_estimator_.fit (X_train,y_train)  \n",
    "print (\"Fit the model with optimized hyperparameters:\\n\", clf.best_estimator_.fit (X_train,y_train))\n",
    "\n"
   ]
  },
  {
   "cell_type": "code",
   "execution_count": null,
   "id": "f92c0d60",
   "metadata": {},
   "outputs": [],
   "source": []
  },
  {
   "cell_type": "code",
   "execution_count": 54,
   "id": "61ab3eb3",
   "metadata": {},
   "outputs": [
    {
     "name": "stdout",
     "output_type": "stream",
     "text": [
      "Accuracy for  OneClassKNN is: 0.9781914893617021\n"
     ]
    }
   ],
   "source": [
    "# Question: why does the score stay the same after hyperparameter optimization?\n",
    "# because the clf classifier has been re-trained.  If you want the older value of clf.score , it should be saved in \n",
    "# a different variable so it does not get overwritten.\n",
    "\n",
    "# are we getting overfitting here in the test data?\n",
    "# threshold is off for this model, because the threshold for unbalanced data is 0.5\n",
    "# need to come up with a threshold that determines range of data to classify as 0 or 1\n",
    "\n",
    "# this is the score of the test data after hyperparameter optimization\n",
    "\n",
    "# evaluate on the test set using the score function\n",
    "# this returns a really high accuracy value, because this particular dataset is \"unbalanced\", \n",
    "# because there is way more of the negative class than the positive class.\n",
    "# In other words, because this dataset is unbalanced, this accuracy result is misleading\n",
    "#clf.score (X_test,y_test)                 #uses the default hyperparameters\n",
    "#clf.best_estimator_.score (X_test,y_test)  #uses the optimal hyperparameters\n",
    "#print (modeltype, \"score before hyperparameter optimization:\", clf.score (X_test,y_test))\n",
    "\n",
    "\n",
    "#***\n",
    "if (modeltype == \"TwoClassKNN\" or modeltype == \"TwoClassSVM\"):   #for supervised learning models\n",
    "    print (modeltype, \"score after hyperparameter optimization:\")\n",
    "    print (clf.best_estimator_.score (X_test,y_test))\n",
    "elif (modeltype == \"OneClassSVM\" or modeltype == \"OneClassKNN\"): \n",
    "    #unsupervised learning models do not have a score, so use accuracy instead\n",
    "    print (\"Accuracy for \",modeltype,\"is:\",(clf.predict (X_test) == y_test).mean())\n",
    "    "
   ]
  },
  {
   "cell_type": "code",
   "execution_count": 55,
   "id": "79d49b4c",
   "metadata": {},
   "outputs": [],
   "source": [
    "# look in the classification data dictionary to figure out where the optimal hyperparameter is located\n",
    "# This command outputs a lot of text, look at the next cell for a shortcut\n",
    "# This shows the entire dictionary (multidimensional array), so it is hard to parse out what we are looking for\n",
    "\n",
    "# HINT: this can generate huge amounts of output, consider commenting out this line after debugging is complete\n",
    "#clf.cv_results_"
   ]
  },
  {
   "cell_type": "code",
   "execution_count": 56,
   "id": "0120f3e8",
   "metadata": {},
   "outputs": [
    {
     "name": "stdout",
     "output_type": "stream",
     "text": [
      "The optimized hyperparameter for OneClassKNN model is: NearestNeighborPredict(n_neighbors=4, threshold=0.6000000000000001)\n"
     ]
    }
   ],
   "source": [
    "# shortcut for previous step to show the optimal hyperparameter\n",
    "# for SVM, this gives us a value of C=8, which is right near the middle of the CVGridSearch for SVM\n",
    "# for KNN, this gives us a value of n_neighbors=38, which is within the range of 1-50 that we provided\n",
    "clf.best_estimator_\n",
    "print (\"The optimized hyperparameter for\", modeltype, \"model is:\", clf.best_estimator_)"
   ]
  },
  {
   "cell_type": "code",
   "execution_count": 57,
   "id": "86f73f30",
   "metadata": {},
   "outputs": [
    {
     "name": "stdout",
     "output_type": "stream",
     "text": [
      "Optimized hyperparameters for OneClassKNN model are:\n"
     ]
    },
    {
     "data": {
      "text/plain": [
       "{'n_neighbors': 4, 'threshold': 0.6000000000000001}"
      ]
     },
     "execution_count": 57,
     "metadata": {},
     "output_type": "execute_result"
    }
   ],
   "source": [
    "# Show optimized hyperparameters\n",
    "print (\"Optimized hyperparameters for\",modeltype,\"model are:\")\n",
    "clf.best_estimator_.get_params()"
   ]
  },
  {
   "cell_type": "markdown",
   "id": "c07d970a",
   "metadata": {},
   "source": [
    "# 14 - Confusion Matrix for entire test set (validation data)"
   ]
  },
  {
   "cell_type": "code",
   "execution_count": 58,
   "id": "d9fd8e2e",
   "metadata": {},
   "outputs": [
    {
     "name": "stdout",
     "output_type": "stream",
     "text": [
      "Confusion matrix\n",
      "\n",
      " [[1821   19]\n",
      " [  22   18]]\n",
      "\n",
      "True Negatives  (TN) =  1821\n",
      "False Positives (FP) =  19\n",
      "False Negatives (FN) =  22\n",
      "True Positives  (TP) =  18\n"
     ]
    }
   ],
   "source": [
    "\n",
    "# Confusion Matrix\n",
    "\n",
    "# A confusion matrix is a table that is often used to describe the performance of a \n",
    "# classification model (or \"classifier\") on a set of test data for which the true values are known.\n",
    "# Scikit-learn provides facility to calculate confusion matrix using the confusion_matrix method.\n",
    "\n",
    "# this output shows a FP as a bit high, probably due to the threshold on this unbalanced data.\n",
    "# could probably be improved by adding another hyperparameter for threshold.\n",
    "\n",
    "# Evaluate model\n",
    "y_pred = clf.best_estimator_.predict(X_test)  #use the optimal hyperparameter calculated earlier\n",
    "cm = confusion_matrix(y_test*-1, y_pred*-1)   #flip the classes by multiplying by -1\n",
    "\n",
    "TN, FP, FN, TP = cm.ravel() #use the .ravel function to pull out TN,TP,FN,TP\n",
    "\n",
    "print('Confusion matrix\\n\\n', cm)\n",
    "print('\\nTrue Negatives  (TN) = ', TN)\n",
    "print('False Positives (FP) = ', FP)\n",
    "print('False Negatives (FN) = ', FN)\n",
    "print('True Positives  (TP) = ', TP)\n"
   ]
  },
  {
   "cell_type": "markdown",
   "id": "304b8b69",
   "metadata": {},
   "source": [
    "# 15 - visualize confusion matrix for test/validation data"
   ]
  },
  {
   "cell_type": "code",
   "execution_count": 59,
   "id": "1cacaa5f",
   "metadata": {},
   "outputs": [],
   "source": [
    "# visualize confusion matrix with a heatmap\n",
    "import seaborn as sns\n",
    "import matplotlib.pyplot as plt\n",
    "\n"
   ]
  },
  {
   "cell_type": "code",
   "execution_count": 60,
   "id": "5df39c88",
   "metadata": {},
   "outputs": [],
   "source": [
    "## very simple graph of confusion matrix\n",
    "#sns.heatmap(cm, annot=True,cmap='summer',cbar=False)\n",
    "#plt.show()\n",
    "\n",
    "## add details below graph to help interpret results\n",
    "#print('Confusion matrix\\n\\n', cm)\n",
    "#print('\\nTrue Negatives  (TN) = ', TN)\n",
    "#print('False Positives (FP) = ', FP)\n",
    "#print('False Negatives (FN) = ', FN)\n",
    "#print('True Positives  (TP) = ', TP)\n"
   ]
  },
  {
   "cell_type": "code",
   "execution_count": 61,
   "id": "f628cf79",
   "metadata": {},
   "outputs": [],
   "source": [
    "## visualize confusion matrix with slightly more detailed graph\n",
    "## Example from https://proclusacademy.com/blog/practical/confusion-matrix-accuracy-sklearn-seaborn/\n",
    "\n",
    "#import seaborn as sns\n",
    "\n",
    "\n",
    "## Change figure size and increase dpi for better resolution\n",
    "#plt.figure(figsize=(8,6), dpi=100)\n",
    "## Scale up the size of all text\n",
    "#sns.set(font_scale = 1.1)\n",
    "\n",
    "## Plot Confusion Matrix using Seaborn heatmap()\n",
    "## Parameters:\n",
    "## first param - confusion matrix in array format   \n",
    "## annot = True: show the numbers in each heatmap cell\n",
    "## fmt = 'd': show numbers as integers. \n",
    "#ax = sns.heatmap(cm, annot=True, fmt='d', )\n",
    "\n",
    "## set x-axis label and ticks. \n",
    "#ax.set_xlabel(\"Predicted Result\", fontsize=14, labelpad=20)\n",
    "#ax.xaxis.set_ticklabels(['Negative', 'Positive'])\n",
    "\n",
    "## set y-axis label and ticks\n",
    "#ax.set_ylabel(\"Actual Result\", fontsize=14, labelpad=20)\n",
    "#ax.yaxis.set_ticklabels(['Negative', 'Positive'])\n",
    "\n",
    "## set plot title\n",
    "#ax.set_title(\"Confusion Matrix\", fontsize=14, pad=20)\n",
    "\n",
    "#plt.show()\n",
    "\n",
    "\n",
    "## add details below graph to help interpret results\n",
    "#print('Confusion matrix\\n\\n', cm)\n",
    "#print('\\nTrue Negatives  (TN) = ', TN)\n",
    "#print('False Positives (FP) = ', FP)\n",
    "#print('False Negatives (FN) = ', FN)\n",
    "#print('True Positives  (TP) = ', TP)\n"
   ]
  },
  {
   "cell_type": "code",
   "execution_count": 62,
   "id": "28d85aff",
   "metadata": {},
   "outputs": [
    {
     "name": "stdout",
     "output_type": "stream",
     "text": [
      "Confusion matrix\n",
      "\n",
      " [[1821   19]\n",
      " [  22   18]]\n",
      "\n",
      "True Negatives  (TN) =  1821\n",
      "False Positives (FP) =  19\n",
      "False Negatives (FN) =  22\n",
      "True Positives  (TP) =  18\n"
     ]
    },
    {
     "data": {
      "image/png": "[encoded data removed]",
      "text/plain": [
       "<Figure size 640x480 with 2 Axes>"
      ]
     },
     "metadata": {},
     "output_type": "display_data"
    }
   ],
   "source": [
    "# visualize confusion matrix with more detailed labels\n",
    "# https://medium.com/@dtuk81/confusion-matrix-visualization-fc31e3f30fea\n",
    "\n",
    "group_names = ['True Neg','False Pos','False Neg','True Pos']\n",
    "group_counts = [\"{0:0.0f}\".format(value) for value in cm.flatten()]\n",
    "group_percentages = [\"{0:.2%}\".format(value) for value in cm.flatten()/np.sum(cm)]\n",
    "labels = [f\"{v1}\\n{v2}\\n{v3}\" for v1, v2, v3 in zip(group_names,group_counts,group_percentages)]\n",
    "labels = np.asarray(labels).reshape(2,2)\n",
    "sns.heatmap(cm, annot=labels, fmt='', cmap='Blues')\n",
    "\n",
    "# add details below graph to help interpret results\n",
    "print('Confusion matrix\\n\\n', cm)\n",
    "print('\\nTrue Negatives  (TN) = ', TN)\n",
    "print('False Positives (FP) = ', FP)\n",
    "print('False Negatives (FN) = ', FN)\n",
    "print('True Positives  (TP) = ', TP)\n"
   ]
  },
  {
   "cell_type": "markdown",
   "id": "478ee307",
   "metadata": {},
   "source": [
    "# 16 - Accuracy of model for entire test dataset (final validation)\n",
    "\n",
    "K-Nearest Neighbors (KNN) cross-validation is a method used to evaluate the performance of a KNN model by splitting the original data into training and validation subsets and using the training subset to make predictions that are then compared to the actual values in the validation subset. This process is repeated multiple times to get an average performance metric, providing an estimate of how well the KNN model will generalize to new, unseen data.\n",
    "\n",
    "Final validation, on the other hand, is the process of evaluating the performance of a model on a completely separate, independent dataset that was not used during training or cross-validation. This provides an estimate of the model's real-world performance and helps to avoid overfitting.\n",
    "\n",
    "In summary, KNN cross-validation is a tool used to assess the model's performance during the model selection and tuning process, while final validation provides an estimate of the model's actual performance on unseen data.\n"
   ]
  },
  {
   "cell_type": "code",
   "execution_count": 63,
   "id": "9da13cbd",
   "metadata": {
    "scrolled": true
   },
   "outputs": [
    {
     "name": "stdout",
     "output_type": "stream",
     "text": [
      "True Negatives:  1821\n",
      "False Positives: 19\n",
      "False Negatives: 22\n",
      "True Positives:  18\n",
      "\n",
      "Accuracy:        0.9781914893617021\n",
      "Sensitivity:     0.45\n",
      "Specificity:     0.9896739130434783\n",
      "Geometric Mean:  0.6673479308947958\n"
     ]
    }
   ],
   "source": [
    "# Assign values from confusion matrix to True Positive, True Negative, False Positive, False Negative\n",
    "\n",
    "print (\"True Negatives: \", TN)\n",
    "print (\"False Positives:\", FP)\n",
    "print (\"False Negatives:\", FN)\n",
    "print (\"True Positives: \", TP)\n",
    "\n",
    "Accuracy = (( TP + TN) / ( TP + TN + FP + FN))\n",
    "Sensitivity = TP / (TP + FN)\n",
    "Specificity = TN / (TN + FP)\n",
    "GeometricMean = math.sqrt(Sensitivity * Specificity)\n",
    "\n",
    "print (\"\")\n",
    "print (\"Accuracy:       \", Accuracy)\n",
    "print (\"Sensitivity:    \", Sensitivity)\n",
    "print (\"Specificity:    \", Specificity)\n",
    "print (\"Geometric Mean: \", GeometricMean)"
   ]
  },
  {
   "cell_type": "markdown",
   "id": "0140cbcb",
   "metadata": {},
   "source": [
    "# 17 - Confusion matrix for each cross validation fold (training data)"
   ]
  },
  {
   "cell_type": "code",
   "execution_count": 64,
   "id": "58fa26f4",
   "metadata": {},
   "outputs": [],
   "source": [
    "# define a function to perform a stratified cross validation\n",
    "# in this context, \"stratified\" means that for each split performed by the cross-validation, \n",
    "# the distribution is preserved in a consistent manner for each split.\n",
    "# This makes the splits for each CV more consistent with each other, reducing variablity in the scores for a smaller std dev\n",
    "\n",
    "def cv_confusion_matrix(clf, X, y, folds=10):\n",
    "    skf = StratifiedKFold(n_splits=folds)\n",
    "    cv_iter = skf.split(X, y)\n",
    "    cms = []   #instantiate an empty list\n",
    "    for train, test in cv_iter:\n",
    "        clf.fit(X[train,], y[train])\n",
    "        #multiply the inputs in the following line by -1 to flip the positive/negative classes\n",
    "        cm = confusion_matrix(y[test]*-1, clf.predict(X[test])*-1, labels=clf.classes_)\n",
    "        cms.append(cm)\n",
    "    #return np.mean(np.array(cms), axis=0)  #just show average of each run\n",
    "    return (np.array(cms))                  #show the confusion matrix for each fold"
   ]
  },
  {
   "cell_type": "code",
   "execution_count": 65,
   "id": "d8e5baae",
   "metadata": {},
   "outputs": [],
   "source": [
    "# xxx\n",
    "# call the above function\n",
    "#run the function using the optimal hyperparameter with the training data and target with 10 folds\n",
    "#this returns a 3-dimensional matrix \n",
    "if (modeltype == \"TwoClassSVM\" or modeltype == \"TwoClassKNN\"):\n",
    "    cv_confusion_matrix(clf.best_estimator_,X_train,y_train,10)  \n",
    "elif (modeltype == \"OneClassSVM\" or modeltype == \"OneClassKNN\"):\n",
    "    #manually create the \"classes\" attribute for unsupervised models, does not exist by default\n",
    "    clf.best_estimator_.classes_ = [-1,1]  \n",
    "    # now you can run the custom function cv_confusion_matrix after definining the \"classes\" attribute\n",
    "    cv_confusion_matrix(clf.best_estimator_,X_train,y_train,10)  \n",
    "\n"
   ]
  },
  {
   "cell_type": "code",
   "execution_count": null,
   "id": "892182ef",
   "metadata": {},
   "outputs": [],
   "source": []
  },
  {
   "cell_type": "code",
   "execution_count": 66,
   "id": "83f561dd",
   "metadata": {},
   "outputs": [
    {
     "data": {
      "text/plain": [
       "array([[16,  0],\n",
       "       [ 9,  7]], dtype=int64)"
      ]
     },
     "execution_count": 66,
     "metadata": {},
     "output_type": "execute_result"
    }
   ],
   "source": [
    "# put the 3-dimensional matrix into a variable so we can parse out each cross-validation fold\n",
    "cms = cv_confusion_matrix(clf.best_estimator_,X_train,y_train,10)  \n",
    "\n",
    "# show the confusion matrix for the first fold  (will provide TN,FP,FN,TP for a single fold)\n",
    "cms[0]"
   ]
  },
  {
   "cell_type": "markdown",
   "id": "add7bbcf",
   "metadata": {},
   "source": [
    "# 18 - Accuracy of model for each cross-validation fold\n",
    "\n",
    "\n",
    "To measure the quality of the models the Accuracy, Sensitivity, Specificity, and the Geometric Mean measurements will be used. \n",
    "\n",
    "The Accuracy will give some ideas of the performance on the balanced data set, while Sensitivity and Specificity will help in the final validation stage where the data will be clearly unbalanced.\n",
    "\n",
    "https://lifenscience.com/sensitivity-specificity-accuracy/\n",
    "Sensitivity, Specificity, and Accuracy are the terms which are most commonly associated with a Binary classification test and they statistically measure the performance of the test.  Sensitivity indicates, how well the test predicts one category and Specificity measures how well the test predicts the other category. Whereas Accuracy is expected to measure how well the test predicts both categories.\n",
    "\n",
    "\n",
    "https://en.wikipedia.org/wiki/Sensitivity_and_specificity\n",
    "Sensitivity and specificity mathematically describe the accuracy of a test which reports the presence or absence of a condition. Individuals for which the condition is satisfied are considered \"positive\" and those for which it is not are considered \"negative\".\n",
    "\n",
    "Sensitivity (true positive rate) refers to the probability of a positive test, conditioned on truly being positive.\n",
    "The range for sensitivity is 0 to 1, with a value of 1 indicating perfect sensitivity (i.e. 100% of positive cases are correctly identified as positive). A value of 0 indicates poor sensitivity (i.e. no positive cases are correctly identified as positive).\n",
    "\n",
    "\n",
    "Specificity (true negative rate) refers to the probability of a negative test, conditioned on truly being negative.\n",
    "The range for specificity is also 0 to 1, with a value of 1 indicating perfect specificity (i.e. 100% of negative cases are correctly identified as negative). A value of 0 indicates poor specificity (i.e. no negative cases are correctly identified as negative).\n",
    "\n",
    "\n",
    "\n",
    "\n",
    "Calculate the following for each of the cross-validations: Accuracy, Sensitivity, Specificity, Geometric Mean\n",
    "\n",
    "TP = True Positive\n",
    "\n",
    "TN = True Negative\n",
    "\n",
    "FP = False Positive\n",
    "\n",
    "FN = False Negative\n",
    "\n",
    "## Formulas:\n",
    "\n",
    "Accuracy = ( TP + TN) / ( TP + TN + FP + RN)\n",
    "\n",
    "Sensitivity = TP / (TP + FN)\n",
    "\n",
    "Specificity = TN / (TP + FP)\n",
    "\n",
    "Geometric Mean = $$\\sqrt{Sensitivity * Specificity}$$\n",
    "\n"
   ]
  },
  {
   "cell_type": "code",
   "execution_count": 67,
   "id": "942794d0",
   "metadata": {
    "scrolled": true
   },
   "outputs": [
    {
     "name": "stdout",
     "output_type": "stream",
     "text": [
      "\n",
      "-------- Cross Validation Fold 0 --------\n",
      "True Negative:   16\n",
      "False Positive:  0\n",
      "False Negative:  9\n",
      "True Positive:   7\n",
      "Accuracy:        0.7188\n",
      "Sensitivity:     0.4375\n",
      "Specificity:     1.0\n",
      "Geometric Mean:  0.6614\n",
      "\n",
      "-------- Cross Validation Fold 1 --------\n",
      "True Negative:   16\n",
      "False Positive:  0\n",
      "False Negative:  7\n",
      "True Positive:   9\n",
      "Accuracy:        0.7812\n",
      "Sensitivity:     0.5625\n",
      "Specificity:     1.0\n",
      "Geometric Mean:  0.75\n",
      "\n",
      "-------- Cross Validation Fold 2 --------\n",
      "True Negative:   16\n",
      "False Positive:  0\n",
      "False Negative:  10\n",
      "True Positive:   6\n",
      "Accuracy:        0.6875\n",
      "Sensitivity:     0.375\n",
      "Specificity:     1.0\n",
      "Geometric Mean:  0.6124\n",
      "\n",
      "-------- Cross Validation Fold 3 --------\n",
      "True Negative:   16\n",
      "False Positive:  0\n",
      "False Negative:  8\n",
      "True Positive:   8\n",
      "Accuracy:        0.75\n",
      "Sensitivity:     0.5\n",
      "Specificity:     1.0\n",
      "Geometric Mean:  0.7071\n",
      "\n",
      "-------- Cross Validation Fold 4 --------\n",
      "True Negative:   16\n",
      "False Positive:  0\n",
      "False Negative:  8\n",
      "True Positive:   8\n",
      "Accuracy:        0.75\n",
      "Sensitivity:     0.5\n",
      "Specificity:     1.0\n",
      "Geometric Mean:  0.7071\n",
      "\n",
      "-------- Cross Validation Fold 5 --------\n",
      "True Negative:   15\n",
      "False Positive:  1\n",
      "False Negative:  6\n",
      "True Positive:   10\n",
      "Accuracy:        0.7812\n",
      "Sensitivity:     0.625\n",
      "Specificity:     0.9375\n",
      "Geometric Mean:  0.7655\n",
      "\n",
      "-------- Cross Validation Fold 6 --------\n",
      "True Negative:   16\n",
      "False Positive:  0\n",
      "False Negative:  5\n",
      "True Positive:   11\n",
      "Accuracy:        0.8438\n",
      "Sensitivity:     0.6875\n",
      "Specificity:     1.0\n",
      "Geometric Mean:  0.8292\n",
      "\n",
      "-------- Cross Validation Fold 7 --------\n",
      "True Negative:   16\n",
      "False Positive:  0\n",
      "False Negative:  8\n",
      "True Positive:   8\n",
      "Accuracy:        0.75\n",
      "Sensitivity:     0.5\n",
      "Specificity:     1.0\n",
      "Geometric Mean:  0.7071\n",
      "\n",
      "-------- Cross Validation Fold 8 --------\n",
      "True Negative:   15\n",
      "False Positive:  1\n",
      "False Negative:  5\n",
      "True Positive:   11\n",
      "Accuracy:        0.8125\n",
      "Sensitivity:     0.6875\n",
      "Specificity:     0.9375\n",
      "Geometric Mean:  0.8028\n",
      "\n",
      "-------- Cross Validation Fold 9 --------\n",
      "True Negative:   16\n",
      "False Positive:  0\n",
      "False Negative:  10\n",
      "True Positive:   6\n",
      "Accuracy:        0.6875\n",
      "Sensitivity:     0.375\n",
      "Specificity:     1.0\n",
      "Geometric Mean:  0.6124\n"
     ]
    }
   ],
   "source": [
    "# show the confusion matrix for each cross-validation fold\n",
    "\n",
    "for i in range(10):\n",
    "    #\n",
    "    # Capture True Negative, False Positive, False Negative, True Positive for each cross-validation fold \n",
    "    #\n",
    "    #TN = cms[i][0,0]    #obtain True  Negative value from confusion matrix\n",
    "    #FP = cms[i][0,1]    #obtain False Positive value from confusion matrix\n",
    "    #FN = cms[i][1,0]    #obtain False Negative value from confusion matrix\n",
    "    #TP = cms[i][1,1]    #obtain True  Positive value from confusion matrix\n",
    "    TN, FP, FN, TP = cms[i].ravel() #use the .ravel function to pull out TN,FP,FN,TP for each fold\n",
    "    #\n",
    "    # Calculate Accuracy, Sensitivity, Specificity, Geometric Mean for each cross-validation fold\n",
    "    # Be careful to avoid divide by zero errors\n",
    "    #\n",
    "    if (TP+TN+FP+FN > 0):\n",
    "        Accuracy = ((TP + TN) / (TP + TN + FP + FN))\n",
    "    elif (TP+TN+FP+FN == 0):  \n",
    "        Accuracy = 0   #avoid divide by zero error, this should never happen because trues should be the opposites of falses\n",
    "    \n",
    "    if (TP > 0 and FN > 0):\n",
    "        Sensitivity = TP / (TP + FN)  #this is the normal and expected formula\n",
    "    elif (TP == 0 and FP == 0):       #this CV fold had no instances of the positive class (TP=0, FP=0)\n",
    "        Sensitivity = 1               #set to perfect sensitivity because there were no false postives (and also no true positives)\n",
    "    elif (TP == 0 and FN > 0):   \n",
    "        Sensitivity = 0               #avoid divide by zero error, set to zero (poor sensitivity because TP is zero)\n",
    "    \n",
    "    if (TN+FP > 0):\n",
    "        Specificity = TN / (TN + FP)  #this is the normal and expected formula\n",
    "    elif (TN == 0 and FN == 0):       #this CV fold had no instances of the negative class (TN=0, FN=0)\n",
    "        Specificity = 1               #set to perfect specificity 0.0000=poor 1.0000=perfect\n",
    "\n",
    "    GeometricMean = math.sqrt(Sensitivity * Specificity)\n",
    "    #\n",
    "    # truncate above calculations to 4 decimal places \n",
    "    #\n",
    "    Accuracy      = round(Accuracy,4)\n",
    "    Sensitivity   = round(Sensitivity,4)\n",
    "    Specificity   = round(Specificity,4)\n",
    "    GeometricMean = round(GeometricMean,4)\n",
    "    #\n",
    "    # print output\n",
    "    #\n",
    "    print (\"\\n-------- Cross Validation Fold\", i ,\"--------\")\n",
    "    print (\"True Negative:  \", TN)\n",
    "    print (\"False Positive: \", FP)\n",
    "    print (\"False Negative: \", FN)\n",
    "    print (\"True Positive:  \", TP)\n",
    "    print (\"Accuracy:       \", Accuracy)\n",
    "    print (\"Sensitivity:    \", Sensitivity)\n",
    "    print (\"Specificity:    \", Specificity)\n",
    "    print (\"Geometric Mean: \", GeometricMean)"
   ]
  },
  {
   "cell_type": "markdown",
   "id": "67215a55",
   "metadata": {},
   "source": [
    "# 19 - classification report (f1 score) for entire validation/test dataset"
   ]
  },
  {
   "cell_type": "code",
   "execution_count": 68,
   "id": "f8a76596",
   "metadata": {
    "scrolled": true
   },
   "outputs": [
    {
     "name": "stdout",
     "output_type": "stream",
     "text": [
      "              precision    recall  f1-score   support\n",
      "\n",
      "          -1       0.99      0.99      0.99      1840\n",
      "           1       0.49      0.45      0.47        40\n",
      "\n",
      "    accuracy                           0.98      1880\n",
      "   macro avg       0.74      0.72      0.73      1880\n",
      "weighted avg       0.98      0.98      0.98      1880\n",
      "\n"
     ]
    }
   ],
   "source": [
    "# Classification Report\n",
    "\n",
    "# Another important report is the Classification report. \n",
    "# It is a text summary of the precision, recall, F1 score for each class. \n",
    "# Scikit-learn provides facility to calculate Classification report using the classification_report method.\n",
    "\n",
    "# F1 is the harmonic mean rather than the geometric mean\n",
    "# F1 gives you the average that is closest to the worst-case scenario\n",
    "\n",
    "#import classification_report\n",
    "from sklearn.metrics import classification_report\n",
    "\n",
    "print(classification_report(y_test*-1,y_pred*-1))  #multiply by -1 to flip class labels"
   ]
  },
  {
   "cell_type": "code",
   "execution_count": null,
   "id": "a521792b",
   "metadata": {},
   "outputs": [],
   "source": []
  }
 ],
 "metadata": {
  "kernelspec": {
   "display_name": "Python 3 (ipykernel)",
   "language": "python",
   "name": "python3"
  },
  "language_info": {
   "codemirror_mode": {
    "name": "ipython",
    "version": 3
   },
   "file_extension": ".py",
   "mimetype": "text/x-python",
   "name": "python",
   "nbconvert_exporter": "python",
   "pygments_lexer": "ipython3",
   "version": "3.9.13"
  }
 },
 "nbformat": 4,
 "nbformat_minor": 5
}
